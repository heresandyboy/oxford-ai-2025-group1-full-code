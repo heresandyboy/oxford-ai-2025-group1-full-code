{
  "cells": [
    {
      "cell_type": "raw",
      "metadata": {
        "vscode": {
          "languageId": "raw"
        }
      },
      "source": [
        "<a href=\"https://colab.research.google.com/github/heresandyboy/oxford-ai-2025-group1-full-code/blob/main/notebooks/samples/agent01_sample_demo.ipynb\" target=\"_parent\"><img src=\"https://colab.research.google.com/assets/colab-badge.svg\" alt=\"Open In Colab\"/></a>\n",
        "\n",
        "# Agent 01: Inventory Threshold Monitor - Iteration Demo\n",
        "\n",
        "**Team Member**: Martin  \n",
        "**Agent**: Inventory Threshold Monitor  \n",
        "**Pattern**: Agents as Tools  \n",
        "\n",
        "This notebook demonstrates the iterative development workflow:\n",
        "1. **Baseline** - Test initial agent\n",
        "2. **Iterate** - Make 2-3 improvements to tools/prompts  \n",
        "3. **Compare** - See tool inputs/outputs and improvements\n",
        "4. **Document** - Capture what worked and lessons learned\n"
      ]
    },
    {
      "cell_type": "code",
      "execution_count": 1,
      "metadata": {},
      "outputs": [
        {
          "name": "stdout",
          "output_type": "stream",
          "text": [
            "✅ Environment ready\n"
          ]
        }
      ],
      "source": [
        "# Setup Environment\n",
        "import os\n",
        "import sys\n",
        "import asyncio\n",
        "import importlib\n",
        "from pathlib import Path\n",
        "\n",
        "# Environment detection and setup\n",
        "IN_COLAB = 'google.colab' in sys.modules\n",
        "\n",
        "if IN_COLAB:\n",
        "    os.system('pip install openai-agents pandas python-dotenv')\n",
        "    os.system('git clone https://github.com/heresandyboy/oxford-ai-2025-group1-full-code.git')\n",
        "    os.chdir('/content/oxford-ai-2025-group1-full-code')\n",
        "    \n",
        "    from google.colab import userdata\n",
        "    os.environ[\"OPENAI_API_KEY\"] = userdata.get('OPENAI_API_KEY')\n",
        "else:\n",
        "    from dotenv import load_dotenv\n",
        "    load_dotenv()\n",
        "    \n",
        "    # Find project root\n",
        "    current_path = Path().resolve()\n",
        "    project_root = current_path\n",
        "    while project_root.parent != project_root:\n",
        "        if (project_root / \"pyproject.toml\").exists():\n",
        "            break\n",
        "        project_root = project_root.parent\n",
        "    sys.path.insert(0, str(project_root))\n",
        "\n",
        "# Verify setup\n",
        "if not os.environ.get(\"OPENAI_API_KEY\"):\n",
        "    raise ValueError(\"OpenAI API key required\")\n",
        "\n",
        "print(\"✅ Environment ready\")\n"
      ]
    },
    {
      "cell_type": "code",
      "execution_count": 2,
      "metadata": {},
      "outputs": [
        {
          "data": {
            "text/html": [
              "<pre style=\"white-space:pre;overflow-x:auto;line-height:normal;font-family:Menlo,'DejaVu Sans Mono',consolas,'Courier New',monospace\"><span style=\"color: #7fbfbf; text-decoration-color: #7fbfbf\">[07/02/25 18:43:42] </span><span style=\"color: #000080; text-decoration-color: #000080\">INFO    </span> 📝 Logging to: logs\\logistics_agents_20250702_184342_heres.log    <a href=\"file://C:\\code\\ai\\mine\\shared\\oxford-ai-2025-group1-full-code\\src\\logistics_agents\\utils\\logging_config.py\" target=\"_blank\"><span style=\"color: #7f7f7f; text-decoration-color: #7f7f7f\">logging_config.py</span></a><span style=\"color: #7f7f7f; text-decoration-color: #7f7f7f\">:</span><a href=\"file://C:\\code\\ai\\mine\\shared\\oxford-ai-2025-group1-full-code\\src\\logistics_agents\\utils\\logging_config.py#87\" target=\"_blank\"><span style=\"color: #7f7f7f; text-decoration-color: #7f7f7f\">87</span></a>\n",
              "</pre>\n"
            ],
            "text/plain": [
              "\u001b[2;36m[07/02/25 18:43:42]\u001b[0m\u001b[2;36m \u001b[0m\u001b[34mINFO    \u001b[0m 📝 Logging to: logs\\logistics_agents_20250702_184342_heres.log    \u001b]8;id=447957;file://C:\\code\\ai\\mine\\shared\\oxford-ai-2025-group1-full-code\\src\\logistics_agents\\utils\\logging_config.py\u001b\\\u001b[2mlogging_config.py\u001b[0m\u001b]8;;\u001b\\\u001b[2m:\u001b[0m\u001b]8;id=996016;file://C:\\code\\ai\\mine\\shared\\oxford-ai-2025-group1-full-code\\src\\logistics_agents\\utils\\logging_config.py#87\u001b\\\u001b[2m87\u001b[0m\u001b]8;;\u001b\\\n"
            ]
          },
          "metadata": {},
          "output_type": "display_data"
        },
        {
          "name": "stdout",
          "output_type": "stream",
          "text": [
            "📊 Loaded 100 items (21 below threshold)\n"
          ]
        }
      ],
      "source": [
        "# Import Dependencies and Load Data\n",
        "from agents import Runner, trace\n",
        "from src.logistics_agents.agents.agent_01_threshold_monitor.agent import InventoryThresholdMonitor\n",
        "from src.logistics_agents.utils.data_loader import create_inventory_context\n",
        "from src.logistics_agents.utils.notebook_logging import run_agent_with_capture, display_logs, display_agent_config, clear_logs\n",
        "\n",
        "# Load real inventory data (100 items from CSV)\n",
        "project_root = Path.cwd() if IN_COLAB else project_root\n",
        "csv_path = project_root / \"data\" / \"final_customer_location_aligned.csv\"\n",
        "context = create_inventory_context(str(csv_path), region=\"Multi-region\")\n",
        "\n",
        "print(f\"📊 Loaded {len(context.items)} items ({len(context.items_below_threshold)} below threshold)\")\n"
      ]
    },
    {
      "cell_type": "raw",
      "metadata": {
        "vscode": {
          "languageId": "raw"
        }
      },
      "source": [
        "## Baseline Test\n",
        "\n",
        "Test the agent as-is to establish baseline performance and capture tool inputs/outputs.\n"
      ]
    },
    {
      "cell_type": "code",
      "execution_count": 3,
      "metadata": {},
      "outputs": [
        {
          "data": {
            "text/html": [
              "<pre style=\"white-space:pre;overflow-x:auto;line-height:normal;font-family:Menlo,'DejaVu Sans Mono',consolas,'Courier New',monospace\"><span style=\"color: #7fbfbf; text-decoration-color: #7fbfbf\">                    </span><span style=\"color: #000080; text-decoration-color: #000080\">INFO    </span> 🤖 InventoryThresholdMonitor initialized                            <a href=\"file://C:\\code\\ai\\mine\\shared\\oxford-ai-2025-group1-full-code\\src\\logistics_agents\\utils\\agent_runner.py\" target=\"_blank\"><span style=\"color: #7f7f7f; text-decoration-color: #7f7f7f\">agent_runner.py</span></a><span style=\"color: #7f7f7f; text-decoration-color: #7f7f7f\">:</span><a href=\"file://C:\\code\\ai\\mine\\shared\\oxford-ai-2025-group1-full-code\\src\\logistics_agents\\utils\\agent_runner.py#43\" target=\"_blank\"><span style=\"color: #7f7f7f; text-decoration-color: #7f7f7f\">43</span></a>\n",
              "</pre>\n"
            ],
            "text/plain": [
              "\u001b[2;36m                   \u001b[0m\u001b[2;36m \u001b[0m\u001b[34mINFO    \u001b[0m 🤖 InventoryThresholdMonitor initialized                            \u001b]8;id=853499;file://C:\\code\\ai\\mine\\shared\\oxford-ai-2025-group1-full-code\\src\\logistics_agents\\utils\\agent_runner.py\u001b\\\u001b[2magent_runner.py\u001b[0m\u001b]8;;\u001b\\\u001b[2m:\u001b[0m\u001b]8;id=393666;file://C:\\code\\ai\\mine\\shared\\oxford-ai-2025-group1-full-code\\src\\logistics_agents\\utils\\agent_runner.py#43\u001b\\\u001b[2m43\u001b[0m\u001b]8;;\u001b\\\n"
            ]
          },
          "metadata": {},
          "output_type": "display_data"
        },
        {
          "name": "stdout",
          "output_type": "stream",
          "text": [
            "🔄 Running agent...\n"
          ]
        },
        {
          "data": {
            "text/html": [
              "<pre style=\"white-space:pre;overflow-x:auto;line-height:normal;font-family:Menlo,'DejaVu Sans Mono',consolas,'Courier New',monospace\"><span style=\"color: #7fbfbf; text-decoration-color: #7fbfbf\">[07/02/25 18:43:47] </span><span style=\"color: #000080; text-decoration-color: #000080\">INFO    </span> 🔧 ThresholdChecker executing<span style=\"color: #808000; text-decoration-color: #808000\">...</span>                                 <a href=\"file://C:\\code\\ai\\mine\\shared\\oxford-ai-2025-group1-full-code\\src\\logistics_agents\\utils\\logging_config.py\" target=\"_blank\"><span style=\"color: #7f7f7f; text-decoration-color: #7f7f7f\">logging_config.py</span></a><span style=\"color: #7f7f7f; text-decoration-color: #7f7f7f\">:</span><a href=\"file://C:\\code\\ai\\mine\\shared\\oxford-ai-2025-group1-full-code\\src\\logistics_agents\\utils\\logging_config.py#211\" target=\"_blank\"><span style=\"color: #7f7f7f; text-decoration-color: #7f7f7f\">211</span></a>\n",
              "</pre>\n"
            ],
            "text/plain": [
              "\u001b[2;36m[07/02/25 18:43:47]\u001b[0m\u001b[2;36m \u001b[0m\u001b[34mINFO    \u001b[0m 🔧 ThresholdChecker executing\u001b[33m...\u001b[0m                                 \u001b]8;id=83172;file://C:\\code\\ai\\mine\\shared\\oxford-ai-2025-group1-full-code\\src\\logistics_agents\\utils\\logging_config.py\u001b\\\u001b[2mlogging_config.py\u001b[0m\u001b]8;;\u001b\\\u001b[2m:\u001b[0m\u001b]8;id=833136;file://C:\\code\\ai\\mine\\shared\\oxford-ai-2025-group1-full-code\\src\\logistics_agents\\utils\\logging_config.py#211\u001b\\\u001b[2m211\u001b[0m\u001b]8;;\u001b\\\n"
            ]
          },
          "metadata": {},
          "output_type": "display_data"
        },
        {
          "data": {
            "text/html": [
              "<pre style=\"white-space:pre;overflow-x:auto;line-height:normal;font-family:Menlo,'DejaVu Sans Mono',consolas,'Courier New',monospace\"><span style=\"color: #7fbfbf; text-decoration-color: #7fbfbf\">                    </span><span style=\"color: #000080; text-decoration-color: #000080\">INFO    </span> 🔧 ThresholdChecker completed                                    <a href=\"file://C:\\code\\ai\\mine\\shared\\oxford-ai-2025-group1-full-code\\src\\logistics_agents\\utils\\logging_config.py\" target=\"_blank\"><span style=\"color: #7f7f7f; text-decoration-color: #7f7f7f\">logging_config.py</span></a><span style=\"color: #7f7f7f; text-decoration-color: #7f7f7f\">:</span><a href=\"file://C:\\code\\ai\\mine\\shared\\oxford-ai-2025-group1-full-code\\src\\logistics_agents\\utils\\logging_config.py#225\" target=\"_blank\"><span style=\"color: #7f7f7f; text-decoration-color: #7f7f7f\">225</span></a>\n",
              "</pre>\n"
            ],
            "text/plain": [
              "\u001b[2;36m                   \u001b[0m\u001b[2;36m \u001b[0m\u001b[34mINFO    \u001b[0m 🔧 ThresholdChecker completed                                    \u001b]8;id=639534;file://C:\\code\\ai\\mine\\shared\\oxford-ai-2025-group1-full-code\\src\\logistics_agents\\utils\\logging_config.py\u001b\\\u001b[2mlogging_config.py\u001b[0m\u001b]8;;\u001b\\\u001b[2m:\u001b[0m\u001b]8;id=396531;file://C:\\code\\ai\\mine\\shared\\oxford-ai-2025-group1-full-code\\src\\logistics_agents\\utils\\logging_config.py#225\u001b\\\u001b[2m225\u001b[0m\u001b]8;;\u001b\\\n"
            ]
          },
          "metadata": {},
          "output_type": "display_data"
        },
        {
          "data": {
            "text/html": [
              "<pre style=\"white-space:pre;overflow-x:auto;line-height:normal;font-family:Menlo,'DejaVu Sans Mono',consolas,'Courier New',monospace\"><span style=\"color: #7fbfbf; text-decoration-color: #7fbfbf\">                    </span><span style=\"color: #000080; text-decoration-color: #000080\">INFO    </span> 🔧 PriorityClassifier executing<span style=\"color: #808000; text-decoration-color: #808000\">...</span>                               <a href=\"file://C:\\code\\ai\\mine\\shared\\oxford-ai-2025-group1-full-code\\src\\logistics_agents\\utils\\logging_config.py\" target=\"_blank\"><span style=\"color: #7f7f7f; text-decoration-color: #7f7f7f\">logging_config.py</span></a><span style=\"color: #7f7f7f; text-decoration-color: #7f7f7f\">:</span><a href=\"file://C:\\code\\ai\\mine\\shared\\oxford-ai-2025-group1-full-code\\src\\logistics_agents\\utils\\logging_config.py#211\" target=\"_blank\"><span style=\"color: #7f7f7f; text-decoration-color: #7f7f7f\">211</span></a>\n",
              "</pre>\n"
            ],
            "text/plain": [
              "\u001b[2;36m                   \u001b[0m\u001b[2;36m \u001b[0m\u001b[34mINFO    \u001b[0m 🔧 PriorityClassifier executing\u001b[33m...\u001b[0m                               \u001b]8;id=812923;file://C:\\code\\ai\\mine\\shared\\oxford-ai-2025-group1-full-code\\src\\logistics_agents\\utils\\logging_config.py\u001b\\\u001b[2mlogging_config.py\u001b[0m\u001b]8;;\u001b\\\u001b[2m:\u001b[0m\u001b]8;id=679494;file://C:\\code\\ai\\mine\\shared\\oxford-ai-2025-group1-full-code\\src\\logistics_agents\\utils\\logging_config.py#211\u001b\\\u001b[2m211\u001b[0m\u001b]8;;\u001b\\\n"
            ]
          },
          "metadata": {},
          "output_type": "display_data"
        },
        {
          "data": {
            "text/html": [
              "<pre style=\"white-space:pre;overflow-x:auto;line-height:normal;font-family:Menlo,'DejaVu Sans Mono',consolas,'Courier New',monospace\"><span style=\"color: #7fbfbf; text-decoration-color: #7fbfbf\">                    </span><span style=\"color: #000080; text-decoration-color: #000080\">INFO    </span> 🔧 PriorityClassifier completed                                  <a href=\"file://C:\\code\\ai\\mine\\shared\\oxford-ai-2025-group1-full-code\\src\\logistics_agents\\utils\\logging_config.py\" target=\"_blank\"><span style=\"color: #7f7f7f; text-decoration-color: #7f7f7f\">logging_config.py</span></a><span style=\"color: #7f7f7f; text-decoration-color: #7f7f7f\">:</span><a href=\"file://C:\\code\\ai\\mine\\shared\\oxford-ai-2025-group1-full-code\\src\\logistics_agents\\utils\\logging_config.py#225\" target=\"_blank\"><span style=\"color: #7f7f7f; text-decoration-color: #7f7f7f\">225</span></a>\n",
              "</pre>\n"
            ],
            "text/plain": [
              "\u001b[2;36m                   \u001b[0m\u001b[2;36m \u001b[0m\u001b[34mINFO    \u001b[0m 🔧 PriorityClassifier completed                                  \u001b]8;id=146248;file://C:\\code\\ai\\mine\\shared\\oxford-ai-2025-group1-full-code\\src\\logistics_agents\\utils\\logging_config.py\u001b\\\u001b[2mlogging_config.py\u001b[0m\u001b]8;;\u001b\\\u001b[2m:\u001b[0m\u001b]8;id=634256;file://C:\\code\\ai\\mine\\shared\\oxford-ai-2025-group1-full-code\\src\\logistics_agents\\utils\\logging_config.py#225\u001b\\\u001b[2m225\u001b[0m\u001b]8;;\u001b\\\n"
            ]
          },
          "metadata": {},
          "output_type": "display_data"
        },
        {
          "name": "stdout",
          "output_type": "stream",
          "text": [
            "✅ Agent execution complete\n",
            "\n",
            "🤖 BASELINE AGENT CONFIGURATION:\n",
            "🤖 AGENT CONFIGURATION\n",
            "============================================================\n",
            "**Agent Name**: InventoryThresholdMonitor\n",
            "**Model**: gpt-4o-mini\n",
            "**Tools Available**: check_inventory_thresholds, classify_item_priority\n",
            "\n",
            "📋 **AGENT INSTRUCTIONS/PROMPT**:\n",
            "----------------------------------------\n",
            "You are an Inventory Threshold Monitor agent in a multi-agent logistics system.\n",
            "\n",
            "**Learning Focus**: Demonstrate @function_tool usage and basic data analysis patterns.\n",
            "\n",
            "**Your Role**: Monitor inventory levels and identify items below reorder thresholds.\n",
            "\n",
            "**Available Tools**:\n",
            "- check_inventory_thresholds: Check which items are below their reorder points\n",
            "- classify_item_priority: Classify urgent items by priority (HIGH/MEDIUM/LOW)\n",
            "\n",
            "**Agent Pattern**: You work as part of an \"Agents as Tools\" system where:\n",
            "1. You analyze inventory data to find threshold violations\n",
            "2. You classify the urgency of items needing restocking\n",
            "3. Your analysis helps other agents (route planning, quantity calculation) make decisions\n",
            "\n",
            "**Approach**:\n",
            "1. Use check_inventory_thresholds to identify items below reorder points\n",
            "2. Use classify_item_priority to prioritize which items need immediate attention\n",
            "3. Focus on clear, actionable threshold analysis that other agents can use\n",
            "\n",
            "Keep responses focused on threshold violations and priority classifications that help coordinate the supply chain workflow.\n",
            "============================================================\n",
            "\n",
            "📋 BASELINE RESULT:\n",
            "### Inventory Threshold Analysis\n",
            "\n",
            "**Threshold Violations:**\n",
            "- **Total Items Below Threshold:** 21 out of 100\n",
            "- Key Items of Concern:\n",
            "  - **SKU2:** 1 unit (Threshold: 17) - **Category:** Haircare\n",
            "  - **SKU4:** 5 units (Threshold: 11) - **Category:** Skincare\n",
            "  - **SKU6:** 11 units (Threshold: 11) - **Category:** Skincare\n",
            "  - **SKU8:** 5 units (Threshold: 10) - **Category:** Cosmetics\n",
            "  - **SKU9:** 14 units (Threshold: 16) - **Category:** Skincare\n",
            "  - ... and 16 more items with similar issues.\n",
            "\n",
            "### Priority Classification\n",
            "\n",
            "#### High Priority Items (Urgent Restocking):\n",
            "1. **SKU2:** 1 unit (Haircare)\n",
            "2. **SKU16:** 2 units (Skincare)\n",
            "3. **SKU33:** 4 units (Cosmetics)\n",
            "4. **SKU5:** 3 units (Skincare)\n",
            "5. **SKU22:** 5 units (Haircare)\n",
            "\n",
            "#### Medium Priority Items (Plan Restocking):\n",
            "- **Total Medium Priority Items:** 7\n",
            "\n",
            "#### Low Priority Items (Monitor Closely):\n",
            "- **Total Low Priority Items:** 9\n",
            "\n",
            "### Recommendations\n",
            "1. **Immediate Action:** Focus on restocking the **5 High Priority Items**.\n",
            "2. **Plan for Medium Priority Items:** Schedule future orders based on medium-priority classification.\n",
            "3. **Monitoring:** Keep an eye on the **9 Low Priority Items** to prevent future shortages.\n",
            "\n",
            "This structured approach will help prioritize restocking efforts and maintain optimal inventory levels.\n",
            "\n",
            "📋 DETAILED EXECUTION LOG\n",
            "============================================================\n",
            "\n",
            "[18:43:42] 🤖 **AGENT INPUT**:\n",
            "```\n",
            "Analyze inventory thresholds and prioritize items needing restocking.\n",
            "```\n",
            "\n",
            "[18:43:47] 🔧 **TOOL INPUT** (ThresholdChecker):\n",
            "```\n",
            "ThresholdChecker | Context: 100 items\n",
            "```\n",
            "\n",
            "[18:43:47] 📤 **TOOL OUTPUT** (ThresholdChecker):\n",
            "```\n",
            "ThresholdChecker | SUCCESS | ⚠️ THRESHOLD VIOLATIONS FOUND:\n",
            "📊 21 of 100 items below threshold\n",
            "\n",
            "• SKU2: 1 units (threshold: 17) - ProductCategory.HAIRCARE\n",
            "• SKU4: 5 units (threshold: 11) - ProductCategory.SKINCARE\n",
            "• SKU6: 11 units (threshold: 11) - ProductCategory.SKINCARE\n",
            "• SKU8: 5 units (threshold: 10) - ProductCategory.COSMETICS\n",
            "• SKU9: 14 units (threshold: 16) - ProductCategory.SKINCARE\n",
            "... and 16 more items\n",
            "\n",
            "💡 Recommendation: Prioritize restocking for these items\n",
            "```\n",
            "\n",
            "[18:43:47] 🔧 **TOOL INPUT** (PriorityClassifier):\n",
            "```\n",
            "PriorityClassifier | Context: 100 items\n",
            "```\n",
            "\n",
            "[18:43:47] 📤 **TOOL OUTPUT** (PriorityClassifier):\n",
            "```\n",
            "PriorityClassifier | SUCCESS | 🎯 PRIORITY CLASSIFICATION:\n",
            "🔴 HIGH Priority: 5 items (urgent restocking)\n",
            "🟡 MEDIUM Priority: 7 items (plan restocking)\n",
            "🟢 LOW Priority: 9 items (monitor closely)\n",
            "\n",
            "🔴 High Priority Items:\n",
            "• SKU2: 1 units (ProductCategory.HAIRCARE)\n",
            "• SKU16: 2 units (ProductCategory.SKINCARE)\n",
            "• SKU33: 4 units (ProductCategory.COSMETICS)\n",
            "... and 2 more high priority items\n",
            "\n",
            "💡 Recommendation: Focus immediate attention on HIGH priority items\n",
            "```\n",
            "\n",
            "[18:43:54] ✅ **AGENT OUTPUT**:\n",
            "```\n",
            "### Inventory Threshold Analysis\n",
            "\n",
            "**Threshold Violations:**\n",
            "- **Total Items Below Threshold:** 21 out of 100\n",
            "- Key Items of Concern:\n",
            "  - **SKU2:** 1 unit (Threshold: 17) - **Category:** Haircare\n",
            "  - **SKU4:** 5 units (Threshold: 11) - **Category:** Skincare\n",
            "  - **SKU6:** 11 units (Threshold: 11) - **Category:** Skincare\n",
            "  - **SKU8:** 5 units (Threshold: 10) - **Category:** Cosmetics\n",
            "  - **SKU9:** 14 units (Threshold: 16) - **Category:** Skincare\n",
            "  - ... and 16 more items with similar issues.\n",
            "\n",
            "### Priority Classification\n",
            "\n",
            "#### High Priority Items (Urgent Restocking):\n",
            "1. **SKU2:** 1 unit (Haircare)\n",
            "2. **SKU16:** 2 units (Skincare)\n",
            "3. **SKU33:** 4 units (Cosmetics)\n",
            "4. **SKU5:** 3 units (Skincare)\n",
            "5. **SKU22:** 5 units (Haircare)\n",
            "\n",
            "#### Medium Priority Items (Plan Restocking):\n",
            "- **Total Medium Priority Items:** 7\n",
            "\n",
            "#### Low Priority Items (Monitor Closely):\n",
            "- **Total Low Priority Items:** 9\n",
            "\n",
            "### Recommendations\n",
            "1. **Immediate Action:** Focus on restocking the **5 High Priority Items**.\n",
            "2. **Plan for Medium Priority Items:** Schedule future orders based on medium-priority classification.\n",
            "3. **Monitoring:** Keep an eye on the **9 Low Priority Items** to prevent future shortages.\n",
            "\n",
            "This structured approach will help prioritize restocking efforts and maintain optimal inventory levels.\n",
            "```\n",
            "\n",
            "============================================================\n"
          ]
        }
      ],
      "source": [
        "# BASELINE - Run initial agent\n",
        "agent = InventoryThresholdMonitor()\n",
        "\n",
        "with trace(workflow_name=\"Baseline\"):\n",
        "    result = await run_agent_with_capture(\n",
        "        agent.agent,\n",
        "        \"Analyze inventory thresholds and prioritize items needing restocking.\",\n",
        "        context\n",
        "    )\n",
        "\n",
        "# Show agent configuration after capture\n",
        "print(\"\\n🤖 BASELINE AGENT CONFIGURATION:\")\n",
        "display_agent_config()\n",
        "\n",
        "print(\"\\n📋 BASELINE RESULT:\")\n",
        "print(result.final_output)\n",
        "\n",
        "# Show detailed execution logs\n",
        "display_logs()\n"
      ]
    },
    {
      "cell_type": "raw",
      "metadata": {
        "vscode": {
          "languageId": "raw"
        }
      },
      "source": [
        "## Iteration 1: Enhanced Tool Instructions\n",
        "\n",
        "**Changes Made:**\n",
        "- Enhanced `threshold_checker.py` with more business context\n",
        "- Improved `priority_classifier.py` to consider category importance  \n",
        "- Updated agent instructions for clearer recommendations\n",
        "\n",
        "**Expected:** More actionable business recommendations and better prioritization.\n"
      ]
    },
    {
      "cell_type": "code",
      "execution_count": 4,
      "metadata": {},
      "outputs": [
        {
          "data": {
            "text/html": [
              "<pre style=\"white-space:pre;overflow-x:auto;line-height:normal;font-family:Menlo,'DejaVu Sans Mono',consolas,'Courier New',monospace\"><span style=\"color: #7fbfbf; text-decoration-color: #7fbfbf\">[07/02/25 18:43:54] </span><span style=\"color: #000080; text-decoration-color: #000080\">INFO    </span> 🤖 InventoryThresholdMonitor initialized                            <a href=\"file://C:\\code\\ai\\mine\\shared\\oxford-ai-2025-group1-full-code\\src\\logistics_agents\\utils\\agent_runner.py\" target=\"_blank\"><span style=\"color: #7f7f7f; text-decoration-color: #7f7f7f\">agent_runner.py</span></a><span style=\"color: #7f7f7f; text-decoration-color: #7f7f7f\">:</span><a href=\"file://C:\\code\\ai\\mine\\shared\\oxford-ai-2025-group1-full-code\\src\\logistics_agents\\utils\\agent_runner.py#43\" target=\"_blank\"><span style=\"color: #7f7f7f; text-decoration-color: #7f7f7f\">43</span></a>\n",
              "</pre>\n"
            ],
            "text/plain": [
              "\u001b[2;36m[07/02/25 18:43:54]\u001b[0m\u001b[2;36m \u001b[0m\u001b[34mINFO    \u001b[0m 🤖 InventoryThresholdMonitor initialized                            \u001b]8;id=820206;file://C:\\code\\ai\\mine\\shared\\oxford-ai-2025-group1-full-code\\src\\logistics_agents\\utils\\agent_runner.py\u001b\\\u001b[2magent_runner.py\u001b[0m\u001b]8;;\u001b\\\u001b[2m:\u001b[0m\u001b]8;id=859447;file://C:\\code\\ai\\mine\\shared\\oxford-ai-2025-group1-full-code\\src\\logistics_agents\\utils\\agent_runner.py#43\u001b\\\u001b[2m43\u001b[0m\u001b]8;;\u001b\\\n"
            ]
          },
          "metadata": {},
          "output_type": "display_data"
        },
        {
          "name": "stdout",
          "output_type": "stream",
          "text": [
            "🔄 Running agent...\n"
          ]
        },
        {
          "data": {
            "text/html": [
              "<pre style=\"white-space:pre;overflow-x:auto;line-height:normal;font-family:Menlo,'DejaVu Sans Mono',consolas,'Courier New',monospace\"><span style=\"color: #7fbfbf; text-decoration-color: #7fbfbf\">[07/02/25 18:43:56] </span><span style=\"color: #000080; text-decoration-color: #000080\">INFO    </span> 🔧 ThresholdChecker executing<span style=\"color: #808000; text-decoration-color: #808000\">...</span>                                 <a href=\"file://C:\\code\\ai\\mine\\shared\\oxford-ai-2025-group1-full-code\\src\\logistics_agents\\utils\\logging_config.py\" target=\"_blank\"><span style=\"color: #7f7f7f; text-decoration-color: #7f7f7f\">logging_config.py</span></a><span style=\"color: #7f7f7f; text-decoration-color: #7f7f7f\">:</span><a href=\"file://C:\\code\\ai\\mine\\shared\\oxford-ai-2025-group1-full-code\\src\\logistics_agents\\utils\\logging_config.py#211\" target=\"_blank\"><span style=\"color: #7f7f7f; text-decoration-color: #7f7f7f\">211</span></a>\n",
              "</pre>\n"
            ],
            "text/plain": [
              "\u001b[2;36m[07/02/25 18:43:56]\u001b[0m\u001b[2;36m \u001b[0m\u001b[34mINFO    \u001b[0m 🔧 ThresholdChecker executing\u001b[33m...\u001b[0m                                 \u001b]8;id=287925;file://C:\\code\\ai\\mine\\shared\\oxford-ai-2025-group1-full-code\\src\\logistics_agents\\utils\\logging_config.py\u001b\\\u001b[2mlogging_config.py\u001b[0m\u001b]8;;\u001b\\\u001b[2m:\u001b[0m\u001b]8;id=603128;file://C:\\code\\ai\\mine\\shared\\oxford-ai-2025-group1-full-code\\src\\logistics_agents\\utils\\logging_config.py#211\u001b\\\u001b[2m211\u001b[0m\u001b]8;;\u001b\\\n"
            ]
          },
          "metadata": {},
          "output_type": "display_data"
        },
        {
          "data": {
            "text/html": [
              "<pre style=\"white-space:pre;overflow-x:auto;line-height:normal;font-family:Menlo,'DejaVu Sans Mono',consolas,'Courier New',monospace\"><span style=\"color: #7fbfbf; text-decoration-color: #7fbfbf\">                    </span><span style=\"color: #000080; text-decoration-color: #000080\">INFO    </span> 🔧 ThresholdChecker completed                                    <a href=\"file://C:\\code\\ai\\mine\\shared\\oxford-ai-2025-group1-full-code\\src\\logistics_agents\\utils\\logging_config.py\" target=\"_blank\"><span style=\"color: #7f7f7f; text-decoration-color: #7f7f7f\">logging_config.py</span></a><span style=\"color: #7f7f7f; text-decoration-color: #7f7f7f\">:</span><a href=\"file://C:\\code\\ai\\mine\\shared\\oxford-ai-2025-group1-full-code\\src\\logistics_agents\\utils\\logging_config.py#225\" target=\"_blank\"><span style=\"color: #7f7f7f; text-decoration-color: #7f7f7f\">225</span></a>\n",
              "</pre>\n"
            ],
            "text/plain": [
              "\u001b[2;36m                   \u001b[0m\u001b[2;36m \u001b[0m\u001b[34mINFO    \u001b[0m 🔧 ThresholdChecker completed                                    \u001b]8;id=744669;file://C:\\code\\ai\\mine\\shared\\oxford-ai-2025-group1-full-code\\src\\logistics_agents\\utils\\logging_config.py\u001b\\\u001b[2mlogging_config.py\u001b[0m\u001b]8;;\u001b\\\u001b[2m:\u001b[0m\u001b]8;id=484044;file://C:\\code\\ai\\mine\\shared\\oxford-ai-2025-group1-full-code\\src\\logistics_agents\\utils\\logging_config.py#225\u001b\\\u001b[2m225\u001b[0m\u001b]8;;\u001b\\\n"
            ]
          },
          "metadata": {},
          "output_type": "display_data"
        },
        {
          "data": {
            "text/html": [
              "<pre style=\"white-space:pre;overflow-x:auto;line-height:normal;font-family:Menlo,'DejaVu Sans Mono',consolas,'Courier New',monospace\"><span style=\"color: #7fbfbf; text-decoration-color: #7fbfbf\">                    </span><span style=\"color: #000080; text-decoration-color: #000080\">INFO    </span> 🔧 PriorityClassifier executing<span style=\"color: #808000; text-decoration-color: #808000\">...</span>                               <a href=\"file://C:\\code\\ai\\mine\\shared\\oxford-ai-2025-group1-full-code\\src\\logistics_agents\\utils\\logging_config.py\" target=\"_blank\"><span style=\"color: #7f7f7f; text-decoration-color: #7f7f7f\">logging_config.py</span></a><span style=\"color: #7f7f7f; text-decoration-color: #7f7f7f\">:</span><a href=\"file://C:\\code\\ai\\mine\\shared\\oxford-ai-2025-group1-full-code\\src\\logistics_agents\\utils\\logging_config.py#211\" target=\"_blank\"><span style=\"color: #7f7f7f; text-decoration-color: #7f7f7f\">211</span></a>\n",
              "</pre>\n"
            ],
            "text/plain": [
              "\u001b[2;36m                   \u001b[0m\u001b[2;36m \u001b[0m\u001b[34mINFO    \u001b[0m 🔧 PriorityClassifier executing\u001b[33m...\u001b[0m                               \u001b]8;id=295824;file://C:\\code\\ai\\mine\\shared\\oxford-ai-2025-group1-full-code\\src\\logistics_agents\\utils\\logging_config.py\u001b\\\u001b[2mlogging_config.py\u001b[0m\u001b]8;;\u001b\\\u001b[2m:\u001b[0m\u001b]8;id=874210;file://C:\\code\\ai\\mine\\shared\\oxford-ai-2025-group1-full-code\\src\\logistics_agents\\utils\\logging_config.py#211\u001b\\\u001b[2m211\u001b[0m\u001b]8;;\u001b\\\n"
            ]
          },
          "metadata": {},
          "output_type": "display_data"
        },
        {
          "data": {
            "text/html": [
              "<pre style=\"white-space:pre;overflow-x:auto;line-height:normal;font-family:Menlo,'DejaVu Sans Mono',consolas,'Courier New',monospace\"><span style=\"color: #7fbfbf; text-decoration-color: #7fbfbf\">                    </span><span style=\"color: #000080; text-decoration-color: #000080\">INFO    </span> 🔧 PriorityClassifier completed                                  <a href=\"file://C:\\code\\ai\\mine\\shared\\oxford-ai-2025-group1-full-code\\src\\logistics_agents\\utils\\logging_config.py\" target=\"_blank\"><span style=\"color: #7f7f7f; text-decoration-color: #7f7f7f\">logging_config.py</span></a><span style=\"color: #7f7f7f; text-decoration-color: #7f7f7f\">:</span><a href=\"file://C:\\code\\ai\\mine\\shared\\oxford-ai-2025-group1-full-code\\src\\logistics_agents\\utils\\logging_config.py#225\" target=\"_blank\"><span style=\"color: #7f7f7f; text-decoration-color: #7f7f7f\">225</span></a>\n",
              "</pre>\n"
            ],
            "text/plain": [
              "\u001b[2;36m                   \u001b[0m\u001b[2;36m \u001b[0m\u001b[34mINFO    \u001b[0m 🔧 PriorityClassifier completed                                  \u001b]8;id=245034;file://C:\\code\\ai\\mine\\shared\\oxford-ai-2025-group1-full-code\\src\\logistics_agents\\utils\\logging_config.py\u001b\\\u001b[2mlogging_config.py\u001b[0m\u001b]8;;\u001b\\\u001b[2m:\u001b[0m\u001b]8;id=850006;file://C:\\code\\ai\\mine\\shared\\oxford-ai-2025-group1-full-code\\src\\logistics_agents\\utils\\logging_config.py#225\u001b\\\u001b[2m225\u001b[0m\u001b]8;;\u001b\\\n"
            ]
          },
          "metadata": {},
          "output_type": "display_data"
        },
        {
          "name": "stdout",
          "output_type": "stream",
          "text": [
            "✅ Agent execution complete\n",
            "\n",
            "🔄 ITERATION 1 AGENT CONFIGURATION:\n",
            "🤖 AGENT CONFIGURATION\n",
            "============================================================\n",
            "**Agent Name**: InventoryThresholdMonitor\n",
            "**Model**: gpt-4o-mini\n",
            "**Tools Available**: check_inventory_thresholds, classify_item_priority\n",
            "\n",
            "📋 **AGENT INSTRUCTIONS/PROMPT**:\n",
            "----------------------------------------\n",
            "You are an Inventory Threshold Monitor agent in a multi-agent logistics system.\n",
            "\n",
            "**Learning Focus**: Demonstrate @function_tool usage and basic data analysis patterns.\n",
            "\n",
            "**Your Role**: Monitor inventory levels and identify items below reorder thresholds.\n",
            "\n",
            "**Available Tools**:\n",
            "- check_inventory_thresholds: Check which items are below their reorder points\n",
            "- classify_item_priority: Classify urgent items by priority (HIGH/MEDIUM/LOW)\n",
            "\n",
            "**Agent Pattern**: You work as part of an \"Agents as Tools\" system where:\n",
            "1. You analyze inventory data to find threshold violations\n",
            "2. You classify the urgency of items needing restocking\n",
            "3. Your analysis helps other agents (route planning, quantity calculation) make decisions\n",
            "\n",
            "**Approach**:\n",
            "1. Use check_inventory_thresholds to identify items below reorder points\n",
            "2. Use classify_item_priority to prioritize which items need immediate attention\n",
            "3. Focus on clear, actionable threshold analysis that other agents can use\n",
            "\n",
            "Keep responses focused on threshold violations and priority classifications that help coordinate the supply chain workflow.\n",
            "============================================================\n",
            "\n",
            "📋 ITERATION 1 RESULT:\n",
            "### Inventory Analysis Results\n",
            "\n",
            "**Threshold Violations:**\n",
            "- **Total Items Below Threshold:** 21 out of 100\n",
            "- **Notable Items:**\n",
            "  - **SKU2**: 1 unit (threshold: 17) - **Product Category**: Haircare\n",
            "  - **SKU4**: 5 units (threshold: 11) - **Product Category**: Skincare\n",
            "  - **SKU6**: 11 units (threshold: 11) - **Product Category**: Skincare\n",
            "  - **SKU8**: 5 units (threshold: 10) - **Product Category**: Cosmetics\n",
            "  - **SKU9**: 14 units (threshold: 16) - **Product Category**: Skincare\n",
            "  - ... and 16 more items\n",
            "\n",
            "### Priority Classification:\n",
            "**Immediate Restocking Needs:**\n",
            "- **High Priority Items (Urgent):** 5 items\n",
            "  - **SKU2**: 1 unit (Haircare)\n",
            "  - **SKU16**: 2 units (Skincare)\n",
            "  - **SKU33**: 4 units (Cosmetics)\n",
            "  - ... and 2 more high priority items\n",
            "\n",
            "**Summary of Priorities:**\n",
            "- **HIGH Priority:** 5 items (requiring immediate restocking)\n",
            "- **MEDIUM Priority:** 7 items (plan for restocking)\n",
            "- **LOW Priority:** 9 items (monitor closely)\n",
            "\n",
            "### Recommendations:\n",
            "1. **Focus on restocking the HIGH priority items immediately.**\n",
            "2. **Begin planning restocking for MEDIUM priority items.**\n",
            "3. **Keep an eye on LOW priority items for further monitoring.**\n",
            "\n",
            "This analysis should help coordinate supply chain actions effectively.\n",
            "\n",
            "📋 DETAILED EXECUTION LOG\n",
            "============================================================\n",
            "\n",
            "[18:43:54] 🤖 **AGENT INPUT**:\n",
            "```\n",
            "Analyze inventory thresholds and prioritize items needing restocking.\n",
            "```\n",
            "\n",
            "[18:43:56] 🔧 **TOOL INPUT** (ThresholdChecker):\n",
            "```\n",
            "ThresholdChecker | Context: 100 items\n",
            "```\n",
            "\n",
            "[18:43:56] 📤 **TOOL OUTPUT** (ThresholdChecker):\n",
            "```\n",
            "ThresholdChecker | SUCCESS | ⚠️ THRESHOLD VIOLATIONS FOUND:\n",
            "📊 21 of 100 items below threshold\n",
            "\n",
            "• SKU2: 1 units (threshold: 17) - ProductCategory.HAIRCARE\n",
            "• SKU4: 5 units (threshold: 11) - ProductCategory.SKINCARE\n",
            "• SKU6: 11 units (threshold: 11) - ProductCategory.SKINCARE\n",
            "• SKU8: 5 units (threshold: 10) - ProductCategory.COSMETICS\n",
            "• SKU9: 14 units (threshold: 16) - ProductCategory.SKINCARE\n",
            "... and 16 more items\n",
            "\n",
            "💡 Recommendation: Prioritize restocking for these items\n",
            "```\n",
            "\n",
            "[18:43:56] 🔧 **TOOL INPUT** (PriorityClassifier):\n",
            "```\n",
            "PriorityClassifier | Context: 100 items\n",
            "```\n",
            "\n",
            "[18:43:56] 📤 **TOOL OUTPUT** (PriorityClassifier):\n",
            "```\n",
            "PriorityClassifier | SUCCESS | 🎯 PRIORITY CLASSIFICATION:\n",
            "🔴 HIGH Priority: 5 items (urgent restocking)\n",
            "🟡 MEDIUM Priority: 7 items (plan restocking)\n",
            "🟢 LOW Priority: 9 items (monitor closely)\n",
            "\n",
            "🔴 High Priority Items:\n",
            "• SKU2: 1 units (ProductCategory.HAIRCARE)\n",
            "• SKU16: 2 units (ProductCategory.SKINCARE)\n",
            "• SKU33: 4 units (ProductCategory.COSMETICS)\n",
            "... and 2 more high priority items\n",
            "\n",
            "💡 Recommendation: Focus immediate attention on HIGH priority items\n",
            "```\n",
            "\n",
            "[18:44:03] ✅ **AGENT OUTPUT**:\n",
            "```\n",
            "### Inventory Analysis Results\n",
            "\n",
            "**Threshold Violations:**\n",
            "- **Total Items Below Threshold:** 21 out of 100\n",
            "- **Notable Items:**\n",
            "  - **SKU2**: 1 unit (threshold: 17) - **Product Category**: Haircare\n",
            "  - **SKU4**: 5 units (threshold: 11) - **Product Category**: Skincare\n",
            "  - **SKU6**: 11 units (threshold: 11) - **Product Category**: Skincare\n",
            "  - **SKU8**: 5 units (threshold: 10) - **Product Category**: Cosmetics\n",
            "  - **SKU9**: 14 units (threshold: 16) - **Product Category**: Skincare\n",
            "  - ... and 16 more items\n",
            "\n",
            "### Priority Classification:\n",
            "**Immediate Restocking Needs:**\n",
            "- **High Priority Items (Urgent):** 5 items\n",
            "  - **SKU2**: 1 unit (Haircare)\n",
            "  - **SKU16**: 2 units (Skincare)\n",
            "  - **SKU33**: 4 units (Cosmetics)\n",
            "  - ... and 2 more high priority items\n",
            "\n",
            "**Summary of Priorities:**\n",
            "- **HIGH Priority:** 5 items (requiring immediate restocking)\n",
            "- **MEDIUM Priority:** 7 items (plan for restocking)\n",
            "- **LOW Priority:** 9 items (monitor closely)\n",
            "\n",
            "### Recommendations:\n",
            "1. **Focus on restocking the HIGH priority items immediately.**\n",
            "2. **Begin planning restocking for MEDIUM priority items.**\n",
            "3. **Keep an eye on LOW priority items for further monitoring.**\n",
            "\n",
            "This analysis should help coordinate supply chain actions effectively.\n",
            "```\n",
            "\n",
            "============================================================\n"
          ]
        }
      ],
      "source": [
        "# ITERATION 1 - Reload agent and test changes\n",
        "import src.logistics_agents.agents.agent_01_threshold_monitor.agent as agent_module\n",
        "importlib.reload(agent_module)\n",
        "\n",
        "agent_v1 = agent_module.InventoryThresholdMonitor()\n",
        "\n",
        "with trace(workflow_name=\"Iteration1\"):\n",
        "    result_v1 = await run_agent_with_capture(\n",
        "        agent_v1.agent,\n",
        "        \"Analyze inventory thresholds and prioritize items needing restocking.\",\n",
        "        context\n",
        "    )\n",
        "\n",
        "# Show updated agent configuration after capture\n",
        "print(\"\\n🔄 ITERATION 1 AGENT CONFIGURATION:\")\n",
        "display_agent_config()\n",
        "\n",
        "print(\"\\n📋 ITERATION 1 RESULT:\")\n",
        "print(result_v1.final_output)\n",
        "\n",
        "# Show detailed execution logs\n",
        "display_logs()\n"
      ]
    },
    {
      "cell_type": "raw",
      "metadata": {
        "vscode": {
          "languageId": "raw"
        }
      },
      "source": [
        "## Iteration 2: Output Formatting\n",
        "\n",
        "**Changes Made:**\n",
        "- Added structured output formatting in agent instructions\n",
        "- Enhanced tool outputs with specific quantities and timelines\n",
        "- Added urgency indicators\n",
        "\n",
        "**Testing:** Different input to show improved formatting and actionability.\n"
      ]
    },
    {
      "cell_type": "code",
      "execution_count": 5,
      "metadata": {},
      "outputs": [
        {
          "data": {
            "text/html": [
              "<pre style=\"white-space:pre;overflow-x:auto;line-height:normal;font-family:Menlo,'DejaVu Sans Mono',consolas,'Courier New',monospace\"><span style=\"color: #7fbfbf; text-decoration-color: #7fbfbf\">[07/02/25 18:44:03] </span><span style=\"color: #000080; text-decoration-color: #000080\">INFO    </span> 🤖 InventoryThresholdMonitor initialized                            <a href=\"file://C:\\code\\ai\\mine\\shared\\oxford-ai-2025-group1-full-code\\src\\logistics_agents\\utils\\agent_runner.py\" target=\"_blank\"><span style=\"color: #7f7f7f; text-decoration-color: #7f7f7f\">agent_runner.py</span></a><span style=\"color: #7f7f7f; text-decoration-color: #7f7f7f\">:</span><a href=\"file://C:\\code\\ai\\mine\\shared\\oxford-ai-2025-group1-full-code\\src\\logistics_agents\\utils\\agent_runner.py#43\" target=\"_blank\"><span style=\"color: #7f7f7f; text-decoration-color: #7f7f7f\">43</span></a>\n",
              "</pre>\n"
            ],
            "text/plain": [
              "\u001b[2;36m[07/02/25 18:44:03]\u001b[0m\u001b[2;36m \u001b[0m\u001b[34mINFO    \u001b[0m 🤖 InventoryThresholdMonitor initialized                            \u001b]8;id=979392;file://C:\\code\\ai\\mine\\shared\\oxford-ai-2025-group1-full-code\\src\\logistics_agents\\utils\\agent_runner.py\u001b\\\u001b[2magent_runner.py\u001b[0m\u001b]8;;\u001b\\\u001b[2m:\u001b[0m\u001b]8;id=402492;file://C:\\code\\ai\\mine\\shared\\oxford-ai-2025-group1-full-code\\src\\logistics_agents\\utils\\agent_runner.py#43\u001b\\\u001b[2m43\u001b[0m\u001b]8;;\u001b\\\n"
            ]
          },
          "metadata": {},
          "output_type": "display_data"
        },
        {
          "name": "stdout",
          "output_type": "stream",
          "text": [
            "🔄 Running agent...\n"
          ]
        },
        {
          "data": {
            "text/html": [
              "<pre style=\"white-space:pre;overflow-x:auto;line-height:normal;font-family:Menlo,'DejaVu Sans Mono',consolas,'Courier New',monospace\"><span style=\"color: #7fbfbf; text-decoration-color: #7fbfbf\">[07/02/25 18:44:04] </span><span style=\"color: #000080; text-decoration-color: #000080\">INFO    </span> 🔧 ThresholdChecker executing<span style=\"color: #808000; text-decoration-color: #808000\">...</span>                                 <a href=\"file://C:\\code\\ai\\mine\\shared\\oxford-ai-2025-group1-full-code\\src\\logistics_agents\\utils\\logging_config.py\" target=\"_blank\"><span style=\"color: #7f7f7f; text-decoration-color: #7f7f7f\">logging_config.py</span></a><span style=\"color: #7f7f7f; text-decoration-color: #7f7f7f\">:</span><a href=\"file://C:\\code\\ai\\mine\\shared\\oxford-ai-2025-group1-full-code\\src\\logistics_agents\\utils\\logging_config.py#211\" target=\"_blank\"><span style=\"color: #7f7f7f; text-decoration-color: #7f7f7f\">211</span></a>\n",
              "</pre>\n"
            ],
            "text/plain": [
              "\u001b[2;36m[07/02/25 18:44:04]\u001b[0m\u001b[2;36m \u001b[0m\u001b[34mINFO    \u001b[0m 🔧 ThresholdChecker executing\u001b[33m...\u001b[0m                                 \u001b]8;id=85926;file://C:\\code\\ai\\mine\\shared\\oxford-ai-2025-group1-full-code\\src\\logistics_agents\\utils\\logging_config.py\u001b\\\u001b[2mlogging_config.py\u001b[0m\u001b]8;;\u001b\\\u001b[2m:\u001b[0m\u001b]8;id=889907;file://C:\\code\\ai\\mine\\shared\\oxford-ai-2025-group1-full-code\\src\\logistics_agents\\utils\\logging_config.py#211\u001b\\\u001b[2m211\u001b[0m\u001b]8;;\u001b\\\n"
            ]
          },
          "metadata": {},
          "output_type": "display_data"
        },
        {
          "data": {
            "text/html": [
              "<pre style=\"white-space:pre;overflow-x:auto;line-height:normal;font-family:Menlo,'DejaVu Sans Mono',consolas,'Courier New',monospace\"><span style=\"color: #7fbfbf; text-decoration-color: #7fbfbf\">                    </span><span style=\"color: #000080; text-decoration-color: #000080\">INFO    </span> 🔧 ThresholdChecker completed                                    <a href=\"file://C:\\code\\ai\\mine\\shared\\oxford-ai-2025-group1-full-code\\src\\logistics_agents\\utils\\logging_config.py\" target=\"_blank\"><span style=\"color: #7f7f7f; text-decoration-color: #7f7f7f\">logging_config.py</span></a><span style=\"color: #7f7f7f; text-decoration-color: #7f7f7f\">:</span><a href=\"file://C:\\code\\ai\\mine\\shared\\oxford-ai-2025-group1-full-code\\src\\logistics_agents\\utils\\logging_config.py#225\" target=\"_blank\"><span style=\"color: #7f7f7f; text-decoration-color: #7f7f7f\">225</span></a>\n",
              "</pre>\n"
            ],
            "text/plain": [
              "\u001b[2;36m                   \u001b[0m\u001b[2;36m \u001b[0m\u001b[34mINFO    \u001b[0m 🔧 ThresholdChecker completed                                    \u001b]8;id=795001;file://C:\\code\\ai\\mine\\shared\\oxford-ai-2025-group1-full-code\\src\\logistics_agents\\utils\\logging_config.py\u001b\\\u001b[2mlogging_config.py\u001b[0m\u001b]8;;\u001b\\\u001b[2m:\u001b[0m\u001b]8;id=885578;file://C:\\code\\ai\\mine\\shared\\oxford-ai-2025-group1-full-code\\src\\logistics_agents\\utils\\logging_config.py#225\u001b\\\u001b[2m225\u001b[0m\u001b]8;;\u001b\\\n"
            ]
          },
          "metadata": {},
          "output_type": "display_data"
        },
        {
          "data": {
            "text/html": [
              "<pre style=\"white-space:pre;overflow-x:auto;line-height:normal;font-family:Menlo,'DejaVu Sans Mono',consolas,'Courier New',monospace\"><span style=\"color: #7fbfbf; text-decoration-color: #7fbfbf\">                    </span><span style=\"color: #000080; text-decoration-color: #000080\">INFO    </span> 🔧 PriorityClassifier executing<span style=\"color: #808000; text-decoration-color: #808000\">...</span>                               <a href=\"file://C:\\code\\ai\\mine\\shared\\oxford-ai-2025-group1-full-code\\src\\logistics_agents\\utils\\logging_config.py\" target=\"_blank\"><span style=\"color: #7f7f7f; text-decoration-color: #7f7f7f\">logging_config.py</span></a><span style=\"color: #7f7f7f; text-decoration-color: #7f7f7f\">:</span><a href=\"file://C:\\code\\ai\\mine\\shared\\oxford-ai-2025-group1-full-code\\src\\logistics_agents\\utils\\logging_config.py#211\" target=\"_blank\"><span style=\"color: #7f7f7f; text-decoration-color: #7f7f7f\">211</span></a>\n",
              "</pre>\n"
            ],
            "text/plain": [
              "\u001b[2;36m                   \u001b[0m\u001b[2;36m \u001b[0m\u001b[34mINFO    \u001b[0m 🔧 PriorityClassifier executing\u001b[33m...\u001b[0m                               \u001b]8;id=321682;file://C:\\code\\ai\\mine\\shared\\oxford-ai-2025-group1-full-code\\src\\logistics_agents\\utils\\logging_config.py\u001b\\\u001b[2mlogging_config.py\u001b[0m\u001b]8;;\u001b\\\u001b[2m:\u001b[0m\u001b]8;id=250260;file://C:\\code\\ai\\mine\\shared\\oxford-ai-2025-group1-full-code\\src\\logistics_agents\\utils\\logging_config.py#211\u001b\\\u001b[2m211\u001b[0m\u001b]8;;\u001b\\\n"
            ]
          },
          "metadata": {},
          "output_type": "display_data"
        },
        {
          "data": {
            "text/html": [
              "<pre style=\"white-space:pre;overflow-x:auto;line-height:normal;font-family:Menlo,'DejaVu Sans Mono',consolas,'Courier New',monospace\"><span style=\"color: #7fbfbf; text-decoration-color: #7fbfbf\">                    </span><span style=\"color: #000080; text-decoration-color: #000080\">INFO    </span> 🔧 PriorityClassifier completed                                  <a href=\"file://C:\\code\\ai\\mine\\shared\\oxford-ai-2025-group1-full-code\\src\\logistics_agents\\utils\\logging_config.py\" target=\"_blank\"><span style=\"color: #7f7f7f; text-decoration-color: #7f7f7f\">logging_config.py</span></a><span style=\"color: #7f7f7f; text-decoration-color: #7f7f7f\">:</span><a href=\"file://C:\\code\\ai\\mine\\shared\\oxford-ai-2025-group1-full-code\\src\\logistics_agents\\utils\\logging_config.py#225\" target=\"_blank\"><span style=\"color: #7f7f7f; text-decoration-color: #7f7f7f\">225</span></a>\n",
              "</pre>\n"
            ],
            "text/plain": [
              "\u001b[2;36m                   \u001b[0m\u001b[2;36m \u001b[0m\u001b[34mINFO    \u001b[0m 🔧 PriorityClassifier completed                                  \u001b]8;id=466481;file://C:\\code\\ai\\mine\\shared\\oxford-ai-2025-group1-full-code\\src\\logistics_agents\\utils\\logging_config.py\u001b\\\u001b[2mlogging_config.py\u001b[0m\u001b]8;;\u001b\\\u001b[2m:\u001b[0m\u001b]8;id=720988;file://C:\\code\\ai\\mine\\shared\\oxford-ai-2025-group1-full-code\\src\\logistics_agents\\utils\\logging_config.py#225\u001b\\\u001b[2m225\u001b[0m\u001b]8;;\u001b\\\n"
            ]
          },
          "metadata": {},
          "output_type": "display_data"
        },
        {
          "name": "stdout",
          "output_type": "stream",
          "text": [
            "✅ Agent execution complete\n",
            "\n",
            "🔄 ITERATION 2 AGENT CONFIGURATION:\n",
            "🤖 AGENT CONFIGURATION\n",
            "============================================================\n",
            "**Agent Name**: InventoryThresholdMonitor\n",
            "**Model**: gpt-4o-mini\n",
            "**Tools Available**: check_inventory_thresholds, classify_item_priority\n",
            "\n",
            "📋 **AGENT INSTRUCTIONS/PROMPT**:\n",
            "----------------------------------------\n",
            "You are an Inventory Threshold Monitor agent in a multi-agent logistics system.\n",
            "\n",
            "**Learning Focus**: Demonstrate @function_tool usage and basic data analysis patterns.\n",
            "\n",
            "**Your Role**: Monitor inventory levels and identify items below reorder thresholds.\n",
            "\n",
            "**Available Tools**:\n",
            "- check_inventory_thresholds: Check which items are below their reorder points\n",
            "- classify_item_priority: Classify urgent items by priority (HIGH/MEDIUM/LOW)\n",
            "\n",
            "**Agent Pattern**: You work as part of an \"Agents as Tools\" system where:\n",
            "1. You analyze inventory data to find threshold violations\n",
            "2. You classify the urgency of items needing restocking\n",
            "3. Your analysis helps other agents (route planning, quantity calculation) make decisions\n",
            "\n",
            "**Approach**:\n",
            "1. Use check_inventory_thresholds to identify items below reorder points\n",
            "2. Use classify_item_priority to prioritize which items need immediate attention\n",
            "3. Focus on clear, actionable threshold analysis that other agents can use\n",
            "\n",
            "Keep responses focused on threshold violations and priority classifications that help coordinate the supply chain workflow.\n",
            "============================================================\n",
            "\n",
            "📋 ITERATION 2 RESULT:\n",
            "### Actionable Restocking Report\n",
            "\n",
            "#### Summary of Inventory Threshold Violations:\n",
            "- Total Items Below Threshold: 21 out of 100\n",
            "- High Priority Items Needing Urgent Restocking: 5\n",
            "\n",
            "#### High Priority Items (Urgent Restocking)\n",
            "1. **SKU2**: \n",
            "   - Current Units: 1\n",
            "   - Threshold: 17\n",
            "   - **Category**: Haircare\n",
            "   - *Action*: Restock immediately. Recommendation: Order at least 20 units to meet demand.\n",
            "   - **Timeline**: 1-2 days.\n",
            "\n",
            "2. **SKU16**: \n",
            "   - Current Units: 2\n",
            "   - Threshold: 10\n",
            "   - **Category**: Skincare\n",
            "   - *Action*: Restock immediately. Recommendation: Order at least 10 units.\n",
            "   - **Timeline**: 1-2 days.\n",
            "\n",
            "3. **SKU33**: \n",
            "   - Current Units: 4\n",
            "   - Threshold: 15\n",
            "   - **Category**: Cosmetics\n",
            "   - *Action*: Restock immediately. Recommendation: Order at least 12 units.\n",
            "   - **Timeline**: 1-2 days.\n",
            "\n",
            "4. Additional High Priority Items: \n",
            "   - (Details on remaining items can be requested for further planning.)\n",
            "\n",
            "#### Medium Priority Items (Plan Restocking)\n",
            "- 7 items needing planned restocking; Examples include:\n",
            "  - SKU4: Current Units: 5, Threshold: 11, Category: Skincare\n",
            "  - SKU6: Current Units: 11, Threshold: 11, Category: Skincare\n",
            "  - SKU8: Current Units: 5, Threshold: 10, Category: Cosmetics\n",
            "- **Action**: Evaluate demand and decide restocking quantities within 1 week.\n",
            "\n",
            "#### Low Priority Items (Monitor Closely)\n",
            "- 9 items should be monitored but do not require immediate action.\n",
            "\n",
            "### Recommendations:\n",
            "1. **Immediate Orders**: Focus on high-priority items for restocking within 1-2 days.\n",
            "2. **Planning**: Review medium-priority items by the end of the week.\n",
            "3. **Monitoring**: Keep an eye on low-priority items; reassess in the next inventory check.\n",
            "\n",
            "### Next Steps:\n",
            "- Proceed with the orders for high-priority items.\n",
            "- Schedule a meeting to discuss medium-priority items’ restock strategy.\n",
            "\n",
            "📋 DETAILED EXECUTION LOG\n",
            "============================================================\n",
            "\n",
            "[18:44:03] 🤖 **AGENT INPUT**:\n",
            "```\n",
            "Generate an actionable restocking report with specific recommendations and timelines.\n",
            "```\n",
            "\n",
            "[18:44:04] 🔧 **TOOL INPUT** (ThresholdChecker):\n",
            "```\n",
            "ThresholdChecker | Context: 100 items\n",
            "```\n",
            "\n",
            "[18:44:04] 📤 **TOOL OUTPUT** (ThresholdChecker):\n",
            "```\n",
            "ThresholdChecker | SUCCESS | ⚠️ THRESHOLD VIOLATIONS FOUND:\n",
            "📊 21 of 100 items below threshold\n",
            "\n",
            "• SKU2: 1 units (threshold: 17) - ProductCategory.HAIRCARE\n",
            "• SKU4: 5 units (threshold: 11) - ProductCategory.SKINCARE\n",
            "• SKU6: 11 units (threshold: 11) - ProductCategory.SKINCARE\n",
            "• SKU8: 5 units (threshold: 10) - ProductCategory.COSMETICS\n",
            "• SKU9: 14 units (threshold: 16) - ProductCategory.SKINCARE\n",
            "... and 16 more items\n",
            "\n",
            "💡 Recommendation: Prioritize restocking for these items\n",
            "```\n",
            "\n",
            "[18:44:04] 🔧 **TOOL INPUT** (PriorityClassifier):\n",
            "```\n",
            "PriorityClassifier | Context: 100 items\n",
            "```\n",
            "\n",
            "[18:44:04] 📤 **TOOL OUTPUT** (PriorityClassifier):\n",
            "```\n",
            "PriorityClassifier | SUCCESS | 🎯 PRIORITY CLASSIFICATION:\n",
            "🔴 HIGH Priority: 5 items (urgent restocking)\n",
            "🟡 MEDIUM Priority: 7 items (plan restocking)\n",
            "🟢 LOW Priority: 9 items (monitor closely)\n",
            "\n",
            "🔴 High Priority Items:\n",
            "• SKU2: 1 units (ProductCategory.HAIRCARE)\n",
            "• SKU16: 2 units (ProductCategory.SKINCARE)\n",
            "• SKU33: 4 units (ProductCategory.COSMETICS)\n",
            "... and 2 more high priority items\n",
            "\n",
            "💡 Recommendation: Focus immediate attention on HIGH priority items\n",
            "```\n",
            "\n",
            "[18:44:13] ✅ **AGENT OUTPUT**:\n",
            "```\n",
            "### Actionable Restocking Report\n",
            "\n",
            "#### Summary of Inventory Threshold Violations:\n",
            "- Total Items Below Threshold: 21 out of 100\n",
            "- High Priority Items Needing Urgent Restocking: 5\n",
            "\n",
            "#### High Priority Items (Urgent Restocking)\n",
            "1. **SKU2**: \n",
            "   - Current Units: 1\n",
            "   - Threshold: 17\n",
            "   - **Category**: Haircare\n",
            "   - *Action*: Restock immediately. Recommendation: Order at least 20 units to meet demand.\n",
            "   - **Timeline**: 1-2 days.\n",
            "\n",
            "2. **SKU16**: \n",
            "   - Current Units: 2\n",
            "   - Threshold: 10\n",
            "   - **Category**: Skincare\n",
            "   - *Action*: Restock immediately. Recommendation: Order at least 10 units.\n",
            "   - **Timeline**: 1-2 days.\n",
            "\n",
            "3. **SKU33**: \n",
            "   - Current Units: 4\n",
            "   - Threshold: 15\n",
            "   - **Category**: Cosmetics\n",
            "   - *Action*: Restock immediately. Recommendation: Order at least 12 units.\n",
            "   - **Timeline**: 1-2 days.\n",
            "\n",
            "4. Additional High Priority Items: \n",
            "   - (Details on remaining items can be requested for further planning.)\n",
            "\n",
            "#### Medium Priority Items (Plan Restocking)\n",
            "- 7 items needing planned restocking; Examples include:\n",
            "  - SKU4: Current Units: 5, Threshold: 11, Category: Skincare\n",
            "  - SKU6: Current Units: 11, Threshold: 11, Category: Skincare\n",
            "  - SKU8: Current Units: 5, Threshold: 10, Category: Cosmetics\n",
            "- **Action**: Evaluate demand and decide restocking quantities within 1 week.\n",
            "\n",
            "#### Low Priority Items (Monitor Closely)\n",
            "- 9 items should be monitored but do not require immediate action.\n",
            "\n",
            "### Recommendations:\n",
            "1. **Immediate Orders**: Focus on high-priority items for restocking within 1-2 days.\n",
            "2. **Planning**: Review medium-priority items by the end of the week.\n",
            "3. **Monitoring**: Keep an eye on low-priority items; reassess in the next inventory check.\n",
            "\n",
            "### Next Steps:\n",
            "- Proceed with the orders for high-priority items.\n",
            "- Schedule a meeting to discuss medium-priority items’ restock strategy.\n",
            "```\n",
            "\n",
            "============================================================\n"
          ]
        }
      ],
      "source": [
        "# ITERATION 2 - Test improved formatting\n",
        "importlib.reload(agent_module)\n",
        "agent_v2 = agent_module.InventoryThresholdMonitor()\n",
        "\n",
        "with trace(workflow_name=\"Iteration2\"):\n",
        "    result_v2 = await run_agent_with_capture(\n",
        "        agent_v2.agent,\n",
        "        \"Generate an actionable restocking report with specific recommendations and timelines.\",\n",
        "        context\n",
        "    )\n",
        "\n",
        "# Show updated agent configuration after capture\n",
        "print(\"\\n🔄 ITERATION 2 AGENT CONFIGURATION:\")\n",
        "display_agent_config()\n",
        "\n",
        "print(\"\\n📋 ITERATION 2 RESULT:\")\n",
        "print(result_v2.final_output)\n",
        "\n",
        "# Show detailed execution logs\n",
        "display_logs()\n"
      ]
    },
    {
      "cell_type": "raw",
      "metadata": {
        "vscode": {
          "languageId": "raw"
        }
      },
      "source": [
        "## Integration: Agents as Tools Pattern\n",
        "\n",
        "Show how this agent becomes a tool for the orchestrator (Agent 05).\n"
      ]
    },
    {
      "cell_type": "code",
      "execution_count": 6,
      "metadata": {},
      "outputs": [
        {
          "name": "stdout",
          "output_type": "stream",
          "text": [
            "✅ Tool created successfully\n",
            "📝 Tool type: <class 'agents.tool.FunctionTool'>\n",
            "📋 This agent can now be used as a tool by the orchestrator\n",
            "\n",
            "📄 ORCHESTRATOR INTEGRATION:\n",
            "\n",
            "# In Agent 05 (Orchestrator):\n",
            "threshold_agent = InventoryThresholdMonitor()\n",
            "threshold_tool = threshold_agent.agent.as_tool(\n",
            "    tool_name='InventoryThresholdMonitor',\n",
            "    tool_description='Monitor inventory thresholds and prioritize urgent restocking'\n",
            ")\n",
            "\n",
            "orchestrator = Agent(\n",
            "    model='gpt-4o',\n",
            "    instructions='Coordinate supply chain optimization...',\n",
            "    tools=[threshold_tool, route_tool, restock_tool, consolidator_tool]\n",
            ")\n",
            "\n",
            "# When orchestrator runs, it can call this agent as a tool:\n",
            "# - Automatically receives inventory context\n",
            "# - Gets priority analysis results\n",
            "# - Uses for decision making in supply chain workflow\n",
            "\n"
          ]
        }
      ],
      "source": [
        "# INTEGRATION - Create tool from agent\n",
        "threshold_tool = agent_v2.agent.as_tool(\n",
        "    tool_name='InventoryThresholdMonitor',\n",
        "    tool_description='Monitor inventory thresholds and prioritize urgent restocking needs'\n",
        ")\n",
        "\n",
        "print(f\"✅ Tool created successfully\")\n",
        "print(f\"📝 Tool type: {type(threshold_tool)}\")\n",
        "print(f\"📋 This agent can now be used as a tool by the orchestrator\")\n",
        "\n",
        "# Show integration code for orchestrator\n",
        "print(\"\\n📄 ORCHESTRATOR INTEGRATION:\")\n",
        "print(\"\"\"\n",
        "# In Agent 05 (Orchestrator):\n",
        "threshold_agent = InventoryThresholdMonitor()\n",
        "threshold_tool = threshold_agent.agent.as_tool(\n",
        "    tool_name='InventoryThresholdMonitor',\n",
        "    tool_description='Monitor inventory thresholds and prioritize urgent restocking'\n",
        ")\n",
        "\n",
        "orchestrator = Agent(\n",
        "    model='gpt-4o',\n",
        "    instructions='Coordinate supply chain optimization...',\n",
        "    tools=[threshold_tool, route_tool, restock_tool, consolidator_tool]\n",
        ")\n",
        "\n",
        "# When orchestrator runs, it can call this agent as a tool:\n",
        "# - Automatically receives inventory context\n",
        "# - Gets priority analysis results\n",
        "# - Uses for decision making in supply chain workflow\n",
        "\"\"\")\n"
      ]
    },
    {
      "cell_type": "raw",
      "metadata": {
        "vscode": {
          "languageId": "raw"
        }
      },
      "source": [
        "## Summary & Next Steps\n",
        "\n",
        "**Workflow Demonstrated:**\n",
        "1. Import from actual codebase (no code duplication)\n",
        "2. Make changes to agent.py and tools/ files in VSCode\n",
        "3. Reload with `importlib.reload()` to pick up changes  \n",
        "4. Test and capture tool inputs/outputs\n",
        "5. Compare results across iterations\n",
        "\n",
        "**Pattern Mastery:** ✅ Agents as Tools - Specialist agent ready for orchestrator\n",
        "\n",
        "---\n",
        "\n",
        "## For Team Members: Copy This Template\n",
        "\n",
        "### Quick Setup:\n",
        "```bash\n",
        "cp notebooks/samples/agent01_sample_demo.ipynb notebooks/agent0X_yourname_demo.ipynb\n",
        "```\n",
        "\n",
        "### Update Imports in Cell 2:\n",
        "```python\n",
        "# Agent 02: from ...agent_02_route_computer.agent import RouteComputer\n",
        "# Agent 03: from ...agent_03_restock_calculator.agent import RestockCalculator  \n",
        "# Agent 04: from ...agent_04_order_consolidator.agent import OrderConsolidator\n",
        "# Agent 05: from ...agent_05_orchestrator.agent import Orchestrator\n",
        "```\n",
        "\n",
        "### Update Agent Creation:\n",
        "```python\n",
        "agent = RouteComputer()  # or your agent class\n",
        "```\n",
        "\n",
        "**Team Assignments:** Agent01=Martin, Agent02=Rhiannon, Agent03=Nathan, Agent04=Anagha, Agent05=Andy\n"
      ]
    }
  ],
  "metadata": {
    "kernelspec": {
      "display_name": ".venv",
      "language": "python",
      "name": "python3"
    },
    "language_info": {
      "codemirror_mode": {
        "name": "ipython",
        "version": 3
      },
      "file_extension": ".py",
      "mimetype": "text/x-python",
      "name": "python",
      "nbconvert_exporter": "python",
      "pygments_lexer": "ipython3",
      "version": "3.11.13"
    }
  },
  "nbformat": 4,
  "nbformat_minor": 2
}
