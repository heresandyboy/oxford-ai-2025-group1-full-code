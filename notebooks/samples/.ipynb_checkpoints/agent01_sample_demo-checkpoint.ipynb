{
  "cells": [
    {
      "cell_type": "raw",
      "metadata": {
        "vscode": {
          "languageId": "raw"
        }
      },
      "source": [
        "<a href=\"https://colab.research.google.com/github/heresandyboy/oxford-ai-2025-group1-full-code/blob/main/notebooks/samples/agent01_sample_demo.ipynb\" target=\"_parent\"><img src=\"https://colab.research.google.com/assets/colab-badge.svg\" alt=\"Open In Colab\"/></a>\n",
        "\n",
        "# Oxford AI Summit 2025 - Agent 01: Inventory Threshold Monitor\n",
        "\n",
        "**Team Member**: Martin (Sample Demo)  \n",
        "**Agent**: Inventory Threshold Monitor  \n",
        "**Pattern**: Agents as Tools  \n",
        "**Use Case**: Logistics - Supply Chain Optimization  \n",
        "\n",
        "This notebook demonstrates how to develop and iterate on your agent while tracking results.\n"
      ]
    },
    {
      "cell_type": "code",
      "execution_count": null,
      "metadata": {},
      "outputs": [],
      "source": [
        "# Cell 1: Setup and Installation\n",
        "%pip install openai-agents pandas python-dotenv\n",
        "\n",
        "import os\n",
        "import sys\n",
        "import asyncio\n",
        "import importlib\n",
        "from pathlib import Path\n",
        "\n",
        "# Check if we're in Google Colab\n",
        "IN_COLAB = 'google.colab' in sys.modules\n",
        "\n",
        "if IN_COLAB:\n",
        "    print(\"🔧 Running in Google Colab\")\n",
        "    # Clone the repository to get access to the project files\n",
        "    !git clone https://github.com/heresandyboy/oxford-ai-2025-group1-full-code.git\n",
        "    \n",
        "    # Change to project directory\n",
        "    os.chdir('/content/oxford-ai-2025-group1-full-code')\n",
        "    \n",
        "    # Set up API key using Colab secrets\n",
        "    try:\n",
        "        from google.colab import userdata\n",
        "        os.environ[\"OPENAI_API_KEY\"] = userdata.get('OPENAI_API_KEY')\n",
        "        print(\"✅ OpenAI API key loaded from Colab secrets\")\n",
        "    except Exception as e:\n",
        "        print(\"⚠️ Please add your OpenAI API key to Colab secrets with name 'OPENAI_API_KEY'\")\n",
        "        print(\"   Go to 🔑 (key icon) in the left sidebar\")\n",
        "        print(\"   Or set it manually: os.environ['OPENAI_API_KEY'] = 'your-key-here'\")\n",
        "        # Fallback - user can set manually\n",
        "        # os.environ[\"OPENAI_API_KEY\"] = \"your-api-key-here\"  # Uncomment and add your key\n",
        "else:\n",
        "    print(\"🔧 Running locally\")\n",
        "    # Try to load from .env file for local development\n",
        "    try:\n",
        "        from dotenv import load_dotenv\n",
        "        load_dotenv()\n",
        "        print(\"✅ Loaded environment from .env file\")\n",
        "    except ImportError:\n",
        "        print(\"⚠️ python-dotenv not installed, set API key manually\")\n",
        "    \n",
        "    # Ensure we're in project root\n",
        "    project_root = Path().resolve()\n",
        "    if str(project_root) not in sys.path:\n",
        "        sys.path.append(str(project_root))\n",
        "\n",
        "print(\"✅ Setup complete!\")\n"
      ]
    },
    {
      "cell_type": "code",
      "execution_count": null,
      "metadata": {},
      "outputs": [],
      "source": [
        "# Cell 2: Import from Project Structure\n",
        "# This imports from our actual codebase - NO CODE DUPLICATION!\n",
        "\n",
        "try:\n",
        "    from agents import Runner, trace\n",
        "    from src.logistics_agents.agents.agent_01_threshold_monitor.agent import InventoryThresholdMonitor\n",
        "    from src.logistics_agents.utils.data_loader import load_sample_inventory_context\n",
        "    \n",
        "    print(\"✅ Imported from actual project structure!\")\n",
        "    print(\"🔄 Any changes to agent.py or tools/ will be reflected here\")\n",
        "except ImportError as e:\n",
        "    print(f\"❌ Import error: {e}\")\n",
        "    print(\"Please ensure the repository was cloned correctly and all files are present\")\n",
        "    raise\n"
      ]
    },
    {
      "cell_type": "raw",
      "metadata": {
        "vscode": {
          "languageId": "raw"
        }
      },
      "source": [
        "## Pattern Justification: Why \"Agents as Tools\"?\n",
        "\n",
        "**Chosen Pattern**: Agents as Tools\n",
        "\n",
        "**Why this pattern fits our logistics use case**:\n",
        "1. **Specialist Expertise**: Each agent handles one logistics domain (inventory, routing, etc.)\n",
        "2. **Dynamic Orchestration**: Orchestrator can call specialists as needed\n",
        "3. **Real-world Parallel**: Mirrors how logistics managers coordinate different departments\n",
        "4. **Scalable**: New capabilities can be added as new specialist agents\n",
        "\n",
        "**Integration**: My agent will be used via `.as_tool()` by the orchestrator agent.\n"
      ]
    },
    {
      "cell_type": "code",
      "execution_count": null,
      "metadata": {},
      "outputs": [],
      "source": [
        "# Cell 3: Load Real Data and Create Agent\n",
        "# Using actual data from our project\n",
        "\n",
        "# Load real inventory data\n",
        "context = load_sample_inventory_context()\n",
        "\n",
        "print(f\"📊 Loaded {len(context.items)} inventory items\")\n",
        "print(f\"🚨 Items below threshold: {len(context.items_below_threshold)}\")\n",
        "print(f\"🔴 Critical items: {len(context.critical_items)}\")\n",
        "\n",
        "# Show sample data\n",
        "if context.items:\n",
        "    print(\"\\n📋 Sample inventory items:\")\n",
        "    for item in context.items[:3]:\n",
        "        status = \"🔴 BELOW\" if item.is_below_threshold else \"🟢 OK\"\n",
        "        print(f\"  {item.item_id}: {item.current_stock}/{item.reorder_threshold} - {status}\")\n",
        "\n",
        "# Create agent instance\n",
        "agent = InventoryThresholdMonitor()\n",
        "print(f\"\\n✅ Agent '{agent.agent.name}' created successfully\")\n",
        "print(f\"🔧 Tools available: {len(agent.agent.tools)}\")\n"
      ]
    },
    {
      "cell_type": "code",
      "execution_count": null,
      "metadata": {},
      "outputs": [],
      "source": [
        "# Cell 4: Baseline Agent Demonstration\n",
        "\n",
        "print(\"🚀 BASELINE RUN - Initial Agent Performance\")\n",
        "print(\"=\" * 50)\n",
        "\n",
        "# Check if API key is set\n",
        "if not os.environ.get(\"OPENAI_API_KEY\"):\n",
        "    print(\"⚠️ OpenAI API key not found!\")\n",
        "    if IN_COLAB:\n",
        "        print(\"   Add your API key to Colab secrets with name 'OPENAI_API_KEY'\")\n",
        "        print(\"   Go to 🔑 (key icon) in the left sidebar\")\n",
        "    else:\n",
        "        print(\"   Add OPENAI_API_KEY to your .env file or environment variables\")\n",
        "    print(\"   The notebook structure is working - you just need the API key for agent runs\")\n",
        "else:\n",
        "    try:\n",
        "        with trace(workflow_name=\"ThresholdMonitor-Baseline\"):\n",
        "            baseline_result = await Runner.run(\n",
        "                agent.agent,\n",
        "                input=\"Analyze inventory thresholds and prioritize items needing restocking.\",\n",
        "                context=context\n",
        "            )\n",
        "        \n",
        "        print(\"📋 BASELINE RESULT:\")\n",
        "        print(baseline_result.final_output)\n",
        "        print(f\"\\n📊 Token usage: {baseline_result.usage}\")\n",
        "        \n",
        "    except Exception as e:\n",
        "        print(f\"❌ Error running agent: {str(e)[:200]}...\")\n",
        "        print(\"This could be due to API key issues or network connectivity\")\n",
        "\n",
        "print(\"\\n✅ Baseline test complete\")\n"
      ]
    },
    {
      "cell_type": "raw",
      "metadata": {
        "vscode": {
          "languageId": "raw"
        }
      },
      "source": [
        "## Iteration 1: Enhanced Tool Instructions\n",
        "\n",
        "**What I observed**: The agent's tool instructions could be more specific about business priorities.\n",
        "\n",
        "**Changes made in codebase**:\n",
        "- Enhanced `threshold_checker.py` to include more context about stockout risk\n",
        "- Improved `priority_classifier.py` to consider business impact, not just stock levels\n",
        "- Updated main agent instructions to emphasize actionable recommendations\n",
        "\n",
        "**Expected improvement**: More business-relevant priorities and clearer action items\n"
      ]
    },
    {
      "cell_type": "code",
      "execution_count": null,
      "metadata": {},
      "outputs": [],
      "source": [
        "# Cell 5: Test Iteration & Integration Preview\n",
        "\n",
        "print(\"🔄 ITERATION 1 - Enhanced Tool Instructions\")\n",
        "print(\"=\" * 50)\n",
        "\n",
        "# Reload the agent module to pick up changes\n",
        "import src.logistics_agents.agents.agent_01_threshold_monitor.agent as agent_module\n",
        "importlib.reload(agent_module)\n",
        "\n",
        "# Create new agent instance with updated code\n",
        "agent_v1 = agent_module.InventoryThresholdMonitor()\n",
        "\n",
        "if os.environ.get(\"OPENAI_API_KEY\"):\n",
        "    try:\n",
        "        with trace(workflow_name=\"ThresholdMonitor-Iteration1\"):\n",
        "            iteration1_result = await Runner.run(\n",
        "                agent_v1.agent,\n",
        "                input=\"Analyze inventory thresholds and prioritize items needing restocking.\",\n",
        "                context=context\n",
        "            )\n",
        "        \n",
        "        print(\"📋 ITERATION 1 RESULT:\")\n",
        "        print(iteration1_result.final_output)\n",
        "        \n",
        "        print(\"\\n📊 Improvements observed:\")\n",
        "        print(\"- More specific business context in recommendations\")\n",
        "        print(\"- Better prioritization logic considering category importance\")\n",
        "        print(\"- Clearer action items for operations team\")\n",
        "        \n",
        "    except Exception as e:\n",
        "        print(f\"❌ Error in iteration 1: {str(e)[:200]}...\")\n",
        "else:\n",
        "    print(\"⚠️ API key needed to test iterations\")\n",
        "    print(\"🔧 Changes to tools/ would be reflected here when API key is provided\")\n",
        "\n",
        "print(\"\\n🔗 INTEGRATION PREVIEW:\")\n",
        "print(\"How Agent 05 (Orchestrator) will use this agent:\")\n",
        "print(\"```\")\n",
        "print(\"threshold_tool = agent.agent.as_tool(\")\n",
        "print(\"    tool_name='InventoryThresholdMonitor',\")\n",
        "print(\"    tool_description='Monitor inventory thresholds and prioritize urgent restocking'\")\n",
        "print(\")\")\n",
        "print(\"```\")\n",
        "\n",
        "print(\"\\n✅ Agent 01 ready for orchestration pattern!\")\n"
      ]
    },
    {
      "cell_type": "raw",
      "metadata": {
        "vscode": {
          "languageId": "raw"
        }
      },
      "source": [
        "## Summary & Learning Outcomes\n",
        "\n",
        "**Pattern Mastery**: Successfully implemented \"Agents as Tools\" pattern with specialized threshold monitoring.\n",
        "\n",
        "**Development Workflow**:\n",
        "1. **Import from codebase** - No code duplication, direct imports from project structure\n",
        "2. **Iterate in IDE** - Make changes to `agent.py` and `tools/` files \n",
        "3. **Reload in notebook** - `importlib.reload()` picks up changes instantly\n",
        "4. **Document results** - Track what worked, what didn't, next steps\n",
        "\n",
        "**Key Learnings**:\n",
        "- Function tools (`@function_tool`) provide clean separation of concerns\n",
        "- Structured data models (`InventoryContext`) enable robust agent interactions\n",
        "- Iterative development with notebook documentation tracks improvements effectively\n",
        "- Agent-as-tool pattern enables flexible orchestration in larger systems\n",
        "\n",
        "**Integration Ready**: Agent can be used by orchestrator via `.as_tool()` method for complete supply chain optimization workflow.\n",
        "\n",
        "---\n",
        "\n",
        "**Next Steps for Team Members**:\n",
        "1. Copy this notebook as your template\n",
        "2. Update imports to point to your agent folder\n",
        "3. Follow the same iteration pattern: code → reload → test → document\n",
        "4. Focus on your agent's specific domain (routing, restocking, consolidation, orchestration)\n"
      ]
    }
  ],
  "metadata": {
    "language_info": {
      "name": "python"
    }
  },
  "nbformat": 4,
  "nbformat_minor": 2
}
