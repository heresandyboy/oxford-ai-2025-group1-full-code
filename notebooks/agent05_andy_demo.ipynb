{
  "cells": [
    {
      "cell_type": "raw",
      "metadata": {
        "vscode": {
          "languageId": "raw"
        }
      },
      "source": [
        "<a href=\"https://colab.research.google.com/github/heresandyboy/oxford-ai-2025-group1-full-code/blob/main/notebooks/agent05_andy_demo.ipynb\" target=\"_parent\"><img src=\"https://colab.research.google.com/assets/colab-badge.svg\" alt=\"Open In Colab\"/></a>\n",
        "\n",
        "# Agent 05: Inventory Orchestrator - Iteration Demo\n",
        "\n",
        "**Team Member**: Andy  \n",
        "**Agent**: Inventory Orchestrator  \n",
        "**Pattern**: Agents as Tools  \n",
        "\n",
        "This notebook demonstrates the iterative development workflow for the orchestrator agent:\n",
        "1. **Baseline** - Test initial orchestrator\n",
        "2. **Iterate** - Make 2-3 improvements to coordination/prompts  \n",
        "3. **Compare** - See orchestration improvements and agent coordination\n",
        "4. **Document** - Capture orchestration patterns and lessons learned\n"
      ]
    },
    {
      "cell_type": "code",
      "execution_count": 1,
      "metadata": {},
      "outputs": [
        {
          "name": "stdout",
          "output_type": "stream",
          "text": [
            "✅ Environment ready\n"
          ]
        }
      ],
      "source": [
        "# Setup Environment\n",
        "import os\n",
        "import sys\n",
        "import asyncio\n",
        "import importlib\n",
        "from pathlib import Path\n",
        "\n",
        "# Environment detection and setup\n",
        "IN_COLAB = 'google.colab' in sys.modules\n",
        "\n",
        "if IN_COLAB:\n",
        "    os.system('pip install openai-agents pandas python-dotenv')\n",
        "    os.system('git clone https://github.com/heresandyboy/oxford-ai-2025-group1-full-code.git')\n",
        "    os.chdir('/content/oxford-ai-2025-group1-full-code')\n",
        "    \n",
        "    from google.colab import userdata\n",
        "    os.environ[\"OPENAI_API_KEY\"] = userdata.get('OPENAI_API_KEY')\n",
        "else:\n",
        "    from dotenv import load_dotenv\n",
        "    load_dotenv()\n",
        "    \n",
        "    # Find project root\n",
        "    current_path = Path().resolve()\n",
        "    project_root = current_path\n",
        "    while project_root.parent != project_root:\n",
        "        if (project_root / \"pyproject.toml\").exists():\n",
        "            break\n",
        "        project_root = project_root.parent\n",
        "    sys.path.insert(0, str(project_root))\n",
        "\n",
        "# Verify setup\n",
        "if not os.environ.get(\"OPENAI_API_KEY\"):\n",
        "    raise ValueError(\"OpenAI API key required\")\n",
        "\n",
        "print(\"✅ Environment ready\")\n"
      ]
    },
    {
      "cell_type": "code",
      "execution_count": 2,
      "metadata": {},
      "outputs": [
        {
          "data": {
            "text/html": [
              "<pre style=\"white-space:pre;overflow-x:auto;line-height:normal;font-family:Menlo,'DejaVu Sans Mono',consolas,'Courier New',monospace\"><span style=\"color: #7fbfbf; text-decoration-color: #7fbfbf\">[07/08/25 10:25:32] </span><span style=\"color: #000080; text-decoration-color: #000080\">INFO    </span> 📝 Logging to: logs\\logistics_agents_20250708_102531_heres.log    <a href=\"file://C:\\code\\ai\\mine\\shared\\oxford-ai-2025-group1-full-code\\src\\logistics_agents\\utils\\logging_config.py\" target=\"_blank\"><span style=\"color: #7f7f7f; text-decoration-color: #7f7f7f\">logging_config.py</span></a><span style=\"color: #7f7f7f; text-decoration-color: #7f7f7f\">:</span><a href=\"file://C:\\code\\ai\\mine\\shared\\oxford-ai-2025-group1-full-code\\src\\logistics_agents\\utils\\logging_config.py#87\" target=\"_blank\"><span style=\"color: #7f7f7f; text-decoration-color: #7f7f7f\">87</span></a>\n",
              "</pre>\n"
            ],
            "text/plain": [
              "\u001b[2;36m[07/08/25 10:25:32]\u001b[0m\u001b[2;36m \u001b[0m\u001b[34mINFO    \u001b[0m 📝 Logging to: logs\\logistics_agents_20250708_102531_heres.log    \u001b]8;id=280083;file://C:\\code\\ai\\mine\\shared\\oxford-ai-2025-group1-full-code\\src\\logistics_agents\\utils\\logging_config.py\u001b\\\u001b[2mlogging_config.py\u001b[0m\u001b]8;;\u001b\\\u001b[2m:\u001b[0m\u001b]8;id=239601;file://C:\\code\\ai\\mine\\shared\\oxford-ai-2025-group1-full-code\\src\\logistics_agents\\utils\\logging_config.py#87\u001b\\\u001b[2m87\u001b[0m\u001b]8;;\u001b\\\n"
            ]
          },
          "metadata": {},
          "output_type": "display_data"
        },
        {
          "name": "stdout",
          "output_type": "stream",
          "text": [
            "📊 Loaded 100 items (21 below threshold)\n"
          ]
        }
      ],
      "source": [
        "# Import Dependencies and Load Data\n",
        "from agents import Runner, trace\n",
        "from src.logistics_agents.agents.agent_05_orchestrator.agent import InventoryOrchestrator\n",
        "from src.logistics_agents.utils.data_loader import create_inventory_context\n",
        "from src.logistics_agents.utils.notebook_logging import run_agent_with_capture, display_logs, display_agent_config, clear_logs\n",
        "\n",
        "# Load real inventory data (100 items from CSV)\n",
        "project_root = Path.cwd() if IN_COLAB else project_root\n",
        "csv_path = project_root / \"data\" / \"final_customer_location_aligned.csv\"\n",
        "context = create_inventory_context(str(csv_path), region=\"Multi-region\")\n",
        "\n",
        "print(f\"📊 Loaded {len(context.items)} items ({len(context.items_below_threshold)} below threshold)\")\n"
      ]
    },
    {
      "cell_type": "raw",
      "metadata": {
        "vscode": {
          "languageId": "raw"
        }
      },
      "source": [
        "## Baseline Test\n",
        "\n",
        "Test the orchestrator agent as-is to establish baseline performance and capture agent coordination patterns.\n"
      ]
    },
    {
      "cell_type": "code",
      "execution_count": 3,
      "metadata": {},
      "outputs": [
        {
          "data": {
            "text/html": [
              "<pre style=\"white-space:pre;overflow-x:auto;line-height:normal;font-family:Menlo,'DejaVu Sans Mono',consolas,'Courier New',monospace\"><span style=\"color: #7fbfbf; text-decoration-color: #7fbfbf\">[07/08/25 10:25:39] </span><span style=\"color: #000080; text-decoration-color: #000080\">INFO    </span> 🤖 InventoryThresholdMonitor initialized                            <a href=\"file://C:\\code\\ai\\mine\\shared\\oxford-ai-2025-group1-full-code\\src\\logistics_agents\\utils\\agent_runner.py\" target=\"_blank\"><span style=\"color: #7f7f7f; text-decoration-color: #7f7f7f\">agent_runner.py</span></a><span style=\"color: #7f7f7f; text-decoration-color: #7f7f7f\">:</span><a href=\"file://C:\\code\\ai\\mine\\shared\\oxford-ai-2025-group1-full-code\\src\\logistics_agents\\utils\\agent_runner.py#44\" target=\"_blank\"><span style=\"color: #7f7f7f; text-decoration-color: #7f7f7f\">44</span></a>\n",
              "</pre>\n"
            ],
            "text/plain": [
              "\u001b[2;36m[07/08/25 10:25:39]\u001b[0m\u001b[2;36m \u001b[0m\u001b[34mINFO    \u001b[0m 🤖 InventoryThresholdMonitor initialized                            \u001b]8;id=645323;file://C:\\code\\ai\\mine\\shared\\oxford-ai-2025-group1-full-code\\src\\logistics_agents\\utils\\agent_runner.py\u001b\\\u001b[2magent_runner.py\u001b[0m\u001b]8;;\u001b\\\u001b[2m:\u001b[0m\u001b]8;id=702398;file://C:\\code\\ai\\mine\\shared\\oxford-ai-2025-group1-full-code\\src\\logistics_agents\\utils\\agent_runner.py#44\u001b\\\u001b[2m44\u001b[0m\u001b]8;;\u001b\\\n"
            ]
          },
          "metadata": {},
          "output_type": "display_data"
        },
        {
          "data": {
            "text/html": [
              "<pre style=\"white-space:pre;overflow-x:auto;line-height:normal;font-family:Menlo,'DejaVu Sans Mono',consolas,'Courier New',monospace\"><span style=\"color: #7fbfbf; text-decoration-color: #7fbfbf\">                    </span><span style=\"color: #000080; text-decoration-color: #000080\">INFO    </span> 🤖 RouteComputer initialized                                        <a href=\"file://C:\\code\\ai\\mine\\shared\\oxford-ai-2025-group1-full-code\\src\\logistics_agents\\utils\\agent_runner.py\" target=\"_blank\"><span style=\"color: #7f7f7f; text-decoration-color: #7f7f7f\">agent_runner.py</span></a><span style=\"color: #7f7f7f; text-decoration-color: #7f7f7f\">:</span><a href=\"file://C:\\code\\ai\\mine\\shared\\oxford-ai-2025-group1-full-code\\src\\logistics_agents\\utils\\agent_runner.py#44\" target=\"_blank\"><span style=\"color: #7f7f7f; text-decoration-color: #7f7f7f\">44</span></a>\n",
              "</pre>\n"
            ],
            "text/plain": [
              "\u001b[2;36m                   \u001b[0m\u001b[2;36m \u001b[0m\u001b[34mINFO    \u001b[0m 🤖 RouteComputer initialized                                        \u001b]8;id=581914;file://C:\\code\\ai\\mine\\shared\\oxford-ai-2025-group1-full-code\\src\\logistics_agents\\utils\\agent_runner.py\u001b\\\u001b[2magent_runner.py\u001b[0m\u001b]8;;\u001b\\\u001b[2m:\u001b[0m\u001b]8;id=577092;file://C:\\code\\ai\\mine\\shared\\oxford-ai-2025-group1-full-code\\src\\logistics_agents\\utils\\agent_runner.py#44\u001b\\\u001b[2m44\u001b[0m\u001b]8;;\u001b\\\n"
            ]
          },
          "metadata": {},
          "output_type": "display_data"
        },
        {
          "data": {
            "text/html": [
              "<pre style=\"white-space:pre;overflow-x:auto;line-height:normal;font-family:Menlo,'DejaVu Sans Mono',consolas,'Courier New',monospace\"><span style=\"color: #7fbfbf; text-decoration-color: #7fbfbf\">                    </span><span style=\"color: #000080; text-decoration-color: #000080\">INFO    </span> 🤖 RestockingCalculator initialized                                 <a href=\"file://C:\\code\\ai\\mine\\shared\\oxford-ai-2025-group1-full-code\\src\\logistics_agents\\utils\\agent_runner.py\" target=\"_blank\"><span style=\"color: #7f7f7f; text-decoration-color: #7f7f7f\">agent_runner.py</span></a><span style=\"color: #7f7f7f; text-decoration-color: #7f7f7f\">:</span><a href=\"file://C:\\code\\ai\\mine\\shared\\oxford-ai-2025-group1-full-code\\src\\logistics_agents\\utils\\agent_runner.py#44\" target=\"_blank\"><span style=\"color: #7f7f7f; text-decoration-color: #7f7f7f\">44</span></a>\n",
              "</pre>\n"
            ],
            "text/plain": [
              "\u001b[2;36m                   \u001b[0m\u001b[2;36m \u001b[0m\u001b[34mINFO    \u001b[0m 🤖 RestockingCalculator initialized                                 \u001b]8;id=712726;file://C:\\code\\ai\\mine\\shared\\oxford-ai-2025-group1-full-code\\src\\logistics_agents\\utils\\agent_runner.py\u001b\\\u001b[2magent_runner.py\u001b[0m\u001b]8;;\u001b\\\u001b[2m:\u001b[0m\u001b]8;id=592329;file://C:\\code\\ai\\mine\\shared\\oxford-ai-2025-group1-full-code\\src\\logistics_agents\\utils\\agent_runner.py#44\u001b\\\u001b[2m44\u001b[0m\u001b]8;;\u001b\\\n"
            ]
          },
          "metadata": {},
          "output_type": "display_data"
        },
        {
          "data": {
            "text/html": [
              "<pre style=\"white-space:pre;overflow-x:auto;line-height:normal;font-family:Menlo,'DejaVu Sans Mono',consolas,'Courier New',monospace\"><span style=\"color: #7fbfbf; text-decoration-color: #7fbfbf\">                    </span><span style=\"color: #000080; text-decoration-color: #000080\">INFO    </span> 🤖 OrderConsolidator initialized                                    <a href=\"file://C:\\code\\ai\\mine\\shared\\oxford-ai-2025-group1-full-code\\src\\logistics_agents\\utils\\agent_runner.py\" target=\"_blank\"><span style=\"color: #7f7f7f; text-decoration-color: #7f7f7f\">agent_runner.py</span></a><span style=\"color: #7f7f7f; text-decoration-color: #7f7f7f\">:</span><a href=\"file://C:\\code\\ai\\mine\\shared\\oxford-ai-2025-group1-full-code\\src\\logistics_agents\\utils\\agent_runner.py#44\" target=\"_blank\"><span style=\"color: #7f7f7f; text-decoration-color: #7f7f7f\">44</span></a>\n",
              "</pre>\n"
            ],
            "text/plain": [
              "\u001b[2;36m                   \u001b[0m\u001b[2;36m \u001b[0m\u001b[34mINFO    \u001b[0m 🤖 OrderConsolidator initialized                                    \u001b]8;id=999391;file://C:\\code\\ai\\mine\\shared\\oxford-ai-2025-group1-full-code\\src\\logistics_agents\\utils\\agent_runner.py\u001b\\\u001b[2magent_runner.py\u001b[0m\u001b]8;;\u001b\\\u001b[2m:\u001b[0m\u001b]8;id=346339;file://C:\\code\\ai\\mine\\shared\\oxford-ai-2025-group1-full-code\\src\\logistics_agents\\utils\\agent_runner.py#44\u001b\\\u001b[2m44\u001b[0m\u001b]8;;\u001b\\\n"
            ]
          },
          "metadata": {},
          "output_type": "display_data"
        },
        {
          "data": {
            "text/html": [
              "<pre style=\"white-space:pre;overflow-x:auto;line-height:normal;font-family:Menlo,'DejaVu Sans Mono',consolas,'Courier New',monospace\"><span style=\"color: #7fbfbf; text-decoration-color: #7fbfbf\">                    </span><span style=\"color: #000080; text-decoration-color: #000080\">INFO    </span> 🤖 InventoryOrchestrator initialized                                <a href=\"file://C:\\code\\ai\\mine\\shared\\oxford-ai-2025-group1-full-code\\src\\logistics_agents\\utils\\agent_runner.py\" target=\"_blank\"><span style=\"color: #7f7f7f; text-decoration-color: #7f7f7f\">agent_runner.py</span></a><span style=\"color: #7f7f7f; text-decoration-color: #7f7f7f\">:</span><a href=\"file://C:\\code\\ai\\mine\\shared\\oxford-ai-2025-group1-full-code\\src\\logistics_agents\\utils\\agent_runner.py#44\" target=\"_blank\"><span style=\"color: #7f7f7f; text-decoration-color: #7f7f7f\">44</span></a>\n",
              "</pre>\n"
            ],
            "text/plain": [
              "\u001b[2;36m                   \u001b[0m\u001b[2;36m \u001b[0m\u001b[34mINFO    \u001b[0m 🤖 InventoryOrchestrator initialized                                \u001b]8;id=710553;file://C:\\code\\ai\\mine\\shared\\oxford-ai-2025-group1-full-code\\src\\logistics_agents\\utils\\agent_runner.py\u001b\\\u001b[2magent_runner.py\u001b[0m\u001b]8;;\u001b\\\u001b[2m:\u001b[0m\u001b]8;id=481785;file://C:\\code\\ai\\mine\\shared\\oxford-ai-2025-group1-full-code\\src\\logistics_agents\\utils\\agent_runner.py#44\u001b\\\u001b[2m44\u001b[0m\u001b]8;;\u001b\\\n"
            ]
          },
          "metadata": {},
          "output_type": "display_data"
        },
        {
          "name": "stdout",
          "output_type": "stream",
          "text": [
            "🔄 Running agent...\n"
          ]
        },
        {
          "data": {
            "text/html": [
              "<pre style=\"white-space:pre;overflow-x:auto;line-height:normal;font-family:Menlo,'DejaVu Sans Mono',consolas,'Courier New',monospace\"><span style=\"color: #7fbfbf; text-decoration-color: #7fbfbf\">[07/08/25 10:25:45] </span><span style=\"color: #000080; text-decoration-color: #000080\">INFO    </span> 🔧 AgentCoordinator executing<span style=\"color: #808000; text-decoration-color: #808000\">...</span>                                 <a href=\"file://C:\\code\\ai\\mine\\shared\\oxford-ai-2025-group1-full-code\\src\\logistics_agents\\utils\\logging_config.py\" target=\"_blank\"><span style=\"color: #7f7f7f; text-decoration-color: #7f7f7f\">logging_config.py</span></a><span style=\"color: #7f7f7f; text-decoration-color: #7f7f7f\">:</span><a href=\"file://C:\\code\\ai\\mine\\shared\\oxford-ai-2025-group1-full-code\\src\\logistics_agents\\utils\\logging_config.py#236\" target=\"_blank\"><span style=\"color: #7f7f7f; text-decoration-color: #7f7f7f\">236</span></a>\n",
              "</pre>\n"
            ],
            "text/plain": [
              "\u001b[2;36m[07/08/25 10:25:45]\u001b[0m\u001b[2;36m \u001b[0m\u001b[34mINFO    \u001b[0m 🔧 AgentCoordinator executing\u001b[33m...\u001b[0m                                 \u001b]8;id=228722;file://C:\\code\\ai\\mine\\shared\\oxford-ai-2025-group1-full-code\\src\\logistics_agents\\utils\\logging_config.py\u001b\\\u001b[2mlogging_config.py\u001b[0m\u001b]8;;\u001b\\\u001b[2m:\u001b[0m\u001b]8;id=956645;file://C:\\code\\ai\\mine\\shared\\oxford-ai-2025-group1-full-code\\src\\logistics_agents\\utils\\logging_config.py#236\u001b\\\u001b[2m236\u001b[0m\u001b]8;;\u001b\\\n"
            ]
          },
          "metadata": {},
          "output_type": "display_data"
        },
        {
          "data": {
            "text/html": [
              "<pre style=\"white-space:pre;overflow-x:auto;line-height:normal;font-family:Menlo,'DejaVu Sans Mono',consolas,'Courier New',monospace\"><span style=\"color: #7fbfbf; text-decoration-color: #7fbfbf\">                    </span><span style=\"color: #000080; text-decoration-color: #000080\">INFO    </span> 🔧 AgentCoordinator completed                                    <a href=\"file://C:\\code\\ai\\mine\\shared\\oxford-ai-2025-group1-full-code\\src\\logistics_agents\\utils\\logging_config.py\" target=\"_blank\"><span style=\"color: #7f7f7f; text-decoration-color: #7f7f7f\">logging_config.py</span></a><span style=\"color: #7f7f7f; text-decoration-color: #7f7f7f\">:</span><a href=\"file://C:\\code\\ai\\mine\\shared\\oxford-ai-2025-group1-full-code\\src\\logistics_agents\\utils\\logging_config.py#250\" target=\"_blank\"><span style=\"color: #7f7f7f; text-decoration-color: #7f7f7f\">250</span></a>\n",
              "</pre>\n"
            ],
            "text/plain": [
              "\u001b[2;36m                   \u001b[0m\u001b[2;36m \u001b[0m\u001b[34mINFO    \u001b[0m 🔧 AgentCoordinator completed                                    \u001b]8;id=148300;file://C:\\code\\ai\\mine\\shared\\oxford-ai-2025-group1-full-code\\src\\logistics_agents\\utils\\logging_config.py\u001b\\\u001b[2mlogging_config.py\u001b[0m\u001b]8;;\u001b\\\u001b[2m:\u001b[0m\u001b]8;id=778938;file://C:\\code\\ai\\mine\\shared\\oxford-ai-2025-group1-full-code\\src\\logistics_agents\\utils\\logging_config.py#250\u001b\\\u001b[2m250\u001b[0m\u001b]8;;\u001b\\\n"
            ]
          },
          "metadata": {},
          "output_type": "display_data"
        },
        {
          "data": {
            "text/html": [
              "<pre style=\"white-space:pre;overflow-x:auto;line-height:normal;font-family:Menlo,'DejaVu Sans Mono',consolas,'Courier New',monospace\"><span style=\"color: #7fbfbf; text-decoration-color: #7fbfbf\">[07/08/25 10:25:50] </span><span style=\"color: #000080; text-decoration-color: #000080\">INFO    </span> 🔧 ThresholdChecker executing<span style=\"color: #808000; text-decoration-color: #808000\">...</span>                                 <a href=\"file://C:\\code\\ai\\mine\\shared\\oxford-ai-2025-group1-full-code\\src\\logistics_agents\\utils\\logging_config.py\" target=\"_blank\"><span style=\"color: #7f7f7f; text-decoration-color: #7f7f7f\">logging_config.py</span></a><span style=\"color: #7f7f7f; text-decoration-color: #7f7f7f\">:</span><a href=\"file://C:\\code\\ai\\mine\\shared\\oxford-ai-2025-group1-full-code\\src\\logistics_agents\\utils\\logging_config.py#236\" target=\"_blank\"><span style=\"color: #7f7f7f; text-decoration-color: #7f7f7f\">236</span></a>\n",
              "</pre>\n"
            ],
            "text/plain": [
              "\u001b[2;36m[07/08/25 10:25:50]\u001b[0m\u001b[2;36m \u001b[0m\u001b[34mINFO    \u001b[0m 🔧 ThresholdChecker executing\u001b[33m...\u001b[0m                                 \u001b]8;id=211513;file://C:\\code\\ai\\mine\\shared\\oxford-ai-2025-group1-full-code\\src\\logistics_agents\\utils\\logging_config.py\u001b\\\u001b[2mlogging_config.py\u001b[0m\u001b]8;;\u001b\\\u001b[2m:\u001b[0m\u001b]8;id=974197;file://C:\\code\\ai\\mine\\shared\\oxford-ai-2025-group1-full-code\\src\\logistics_agents\\utils\\logging_config.py#236\u001b\\\u001b[2m236\u001b[0m\u001b]8;;\u001b\\\n"
            ]
          },
          "metadata": {},
          "output_type": "display_data"
        },
        {
          "data": {
            "text/html": [
              "<pre style=\"white-space:pre;overflow-x:auto;line-height:normal;font-family:Menlo,'DejaVu Sans Mono',consolas,'Courier New',monospace\"><span style=\"color: #7fbfbf; text-decoration-color: #7fbfbf\">                    </span><span style=\"color: #000080; text-decoration-color: #000080\">INFO    </span> 🔧 ThresholdChecker completed                                    <a href=\"file://C:\\code\\ai\\mine\\shared\\oxford-ai-2025-group1-full-code\\src\\logistics_agents\\utils\\logging_config.py\" target=\"_blank\"><span style=\"color: #7f7f7f; text-decoration-color: #7f7f7f\">logging_config.py</span></a><span style=\"color: #7f7f7f; text-decoration-color: #7f7f7f\">:</span><a href=\"file://C:\\code\\ai\\mine\\shared\\oxford-ai-2025-group1-full-code\\src\\logistics_agents\\utils\\logging_config.py#250\" target=\"_blank\"><span style=\"color: #7f7f7f; text-decoration-color: #7f7f7f\">250</span></a>\n",
              "</pre>\n"
            ],
            "text/plain": [
              "\u001b[2;36m                   \u001b[0m\u001b[2;36m \u001b[0m\u001b[34mINFO    \u001b[0m 🔧 ThresholdChecker completed                                    \u001b]8;id=806861;file://C:\\code\\ai\\mine\\shared\\oxford-ai-2025-group1-full-code\\src\\logistics_agents\\utils\\logging_config.py\u001b\\\u001b[2mlogging_config.py\u001b[0m\u001b]8;;\u001b\\\u001b[2m:\u001b[0m\u001b]8;id=498186;file://C:\\code\\ai\\mine\\shared\\oxford-ai-2025-group1-full-code\\src\\logistics_agents\\utils\\logging_config.py#250\u001b\\\u001b[2m250\u001b[0m\u001b]8;;\u001b\\\n"
            ]
          },
          "metadata": {},
          "output_type": "display_data"
        },
        {
          "data": {
            "text/html": [
              "<pre style=\"white-space:pre;overflow-x:auto;line-height:normal;font-family:Menlo,'DejaVu Sans Mono',consolas,'Courier New',monospace\"><span style=\"color: #7fbfbf; text-decoration-color: #7fbfbf\">                    </span><span style=\"color: #000080; text-decoration-color: #000080\">INFO    </span> 🔧 SupplierMatcher executing<span style=\"color: #808000; text-decoration-color: #808000\">...</span>                                  <a href=\"file://C:\\code\\ai\\mine\\shared\\oxford-ai-2025-group1-full-code\\src\\logistics_agents\\utils\\logging_config.py\" target=\"_blank\"><span style=\"color: #7f7f7f; text-decoration-color: #7f7f7f\">logging_config.py</span></a><span style=\"color: #7f7f7f; text-decoration-color: #7f7f7f\">:</span><a href=\"file://C:\\code\\ai\\mine\\shared\\oxford-ai-2025-group1-full-code\\src\\logistics_agents\\utils\\logging_config.py#236\" target=\"_blank\"><span style=\"color: #7f7f7f; text-decoration-color: #7f7f7f\">236</span></a>\n",
              "</pre>\n"
            ],
            "text/plain": [
              "\u001b[2;36m                   \u001b[0m\u001b[2;36m \u001b[0m\u001b[34mINFO    \u001b[0m 🔧 SupplierMatcher executing\u001b[33m...\u001b[0m                                  \u001b]8;id=628179;file://C:\\code\\ai\\mine\\shared\\oxford-ai-2025-group1-full-code\\src\\logistics_agents\\utils\\logging_config.py\u001b\\\u001b[2mlogging_config.py\u001b[0m\u001b]8;;\u001b\\\u001b[2m:\u001b[0m\u001b]8;id=102400;file://C:\\code\\ai\\mine\\shared\\oxford-ai-2025-group1-full-code\\src\\logistics_agents\\utils\\logging_config.py#236\u001b\\\u001b[2m236\u001b[0m\u001b]8;;\u001b\\\n"
            ]
          },
          "metadata": {},
          "output_type": "display_data"
        },
        {
          "data": {
            "text/html": [
              "<pre style=\"white-space:pre;overflow-x:auto;line-height:normal;font-family:Menlo,'DejaVu Sans Mono',consolas,'Courier New',monospace\"><span style=\"color: #7fbfbf; text-decoration-color: #7fbfbf\">                    </span><span style=\"color: #000080; text-decoration-color: #000080\">INFO    </span> 🔧 SupplierMatcher completed                                     <a href=\"file://C:\\code\\ai\\mine\\shared\\oxford-ai-2025-group1-full-code\\src\\logistics_agents\\utils\\logging_config.py\" target=\"_blank\"><span style=\"color: #7f7f7f; text-decoration-color: #7f7f7f\">logging_config.py</span></a><span style=\"color: #7f7f7f; text-decoration-color: #7f7f7f\">:</span><a href=\"file://C:\\code\\ai\\mine\\shared\\oxford-ai-2025-group1-full-code\\src\\logistics_agents\\utils\\logging_config.py#250\" target=\"_blank\"><span style=\"color: #7f7f7f; text-decoration-color: #7f7f7f\">250</span></a>\n",
              "</pre>\n"
            ],
            "text/plain": [
              "\u001b[2;36m                   \u001b[0m\u001b[2;36m \u001b[0m\u001b[34mINFO    \u001b[0m 🔧 SupplierMatcher completed                                     \u001b]8;id=796001;file://C:\\code\\ai\\mine\\shared\\oxford-ai-2025-group1-full-code\\src\\logistics_agents\\utils\\logging_config.py\u001b\\\u001b[2mlogging_config.py\u001b[0m\u001b]8;;\u001b\\\u001b[2m:\u001b[0m\u001b]8;id=813968;file://C:\\code\\ai\\mine\\shared\\oxford-ai-2025-group1-full-code\\src\\logistics_agents\\utils\\logging_config.py#250\u001b\\\u001b[2m250\u001b[0m\u001b]8;;\u001b\\\n"
            ]
          },
          "metadata": {},
          "output_type": "display_data"
        },
        {
          "data": {
            "text/html": [
              "<pre style=\"white-space:pre;overflow-x:auto;line-height:normal;font-family:Menlo,'DejaVu Sans Mono',consolas,'Courier New',monospace\"><span style=\"color: #7fbfbf; text-decoration-color: #7fbfbf\">[07/08/25 10:25:51] </span><span style=\"color: #000080; text-decoration-color: #000080\">INFO    </span> 🔧 PriorityClassifier executing<span style=\"color: #808000; text-decoration-color: #808000\">...</span>                               <a href=\"file://C:\\code\\ai\\mine\\shared\\oxford-ai-2025-group1-full-code\\src\\logistics_agents\\utils\\logging_config.py\" target=\"_blank\"><span style=\"color: #7f7f7f; text-decoration-color: #7f7f7f\">logging_config.py</span></a><span style=\"color: #7f7f7f; text-decoration-color: #7f7f7f\">:</span><a href=\"file://C:\\code\\ai\\mine\\shared\\oxford-ai-2025-group1-full-code\\src\\logistics_agents\\utils\\logging_config.py#236\" target=\"_blank\"><span style=\"color: #7f7f7f; text-decoration-color: #7f7f7f\">236</span></a>\n",
              "</pre>\n"
            ],
            "text/plain": [
              "\u001b[2;36m[07/08/25 10:25:51]\u001b[0m\u001b[2;36m \u001b[0m\u001b[34mINFO    \u001b[0m 🔧 PriorityClassifier executing\u001b[33m...\u001b[0m                               \u001b]8;id=107070;file://C:\\code\\ai\\mine\\shared\\oxford-ai-2025-group1-full-code\\src\\logistics_agents\\utils\\logging_config.py\u001b\\\u001b[2mlogging_config.py\u001b[0m\u001b]8;;\u001b\\\u001b[2m:\u001b[0m\u001b]8;id=47326;file://C:\\code\\ai\\mine\\shared\\oxford-ai-2025-group1-full-code\\src\\logistics_agents\\utils\\logging_config.py#236\u001b\\\u001b[2m236\u001b[0m\u001b]8;;\u001b\\\n"
            ]
          },
          "metadata": {},
          "output_type": "display_data"
        },
        {
          "data": {
            "text/html": [
              "<pre style=\"white-space:pre;overflow-x:auto;line-height:normal;font-family:Menlo,'DejaVu Sans Mono',consolas,'Courier New',monospace\"><span style=\"color: #7fbfbf; text-decoration-color: #7fbfbf\">                    </span><span style=\"color: #000080; text-decoration-color: #000080\">INFO    </span> 🔧 PriorityClassifier completed                                  <a href=\"file://C:\\code\\ai\\mine\\shared\\oxford-ai-2025-group1-full-code\\src\\logistics_agents\\utils\\logging_config.py\" target=\"_blank\"><span style=\"color: #7f7f7f; text-decoration-color: #7f7f7f\">logging_config.py</span></a><span style=\"color: #7f7f7f; text-decoration-color: #7f7f7f\">:</span><a href=\"file://C:\\code\\ai\\mine\\shared\\oxford-ai-2025-group1-full-code\\src\\logistics_agents\\utils\\logging_config.py#250\" target=\"_blank\"><span style=\"color: #7f7f7f; text-decoration-color: #7f7f7f\">250</span></a>\n",
              "</pre>\n"
            ],
            "text/plain": [
              "\u001b[2;36m                   \u001b[0m\u001b[2;36m \u001b[0m\u001b[34mINFO    \u001b[0m 🔧 PriorityClassifier completed                                  \u001b]8;id=39714;file://C:\\code\\ai\\mine\\shared\\oxford-ai-2025-group1-full-code\\src\\logistics_agents\\utils\\logging_config.py\u001b\\\u001b[2mlogging_config.py\u001b[0m\u001b]8;;\u001b\\\u001b[2m:\u001b[0m\u001b]8;id=822144;file://C:\\code\\ai\\mine\\shared\\oxford-ai-2025-group1-full-code\\src\\logistics_agents\\utils\\logging_config.py#250\u001b\\\u001b[2m250\u001b[0m\u001b]8;;\u001b\\\n"
            ]
          },
          "metadata": {},
          "output_type": "display_data"
        },
        {
          "data": {
            "text/html": [
              "<pre style=\"white-space:pre;overflow-x:auto;line-height:normal;font-family:Menlo,'DejaVu Sans Mono',consolas,'Courier New',monospace\"><span style=\"color: #7fbfbf; text-decoration-color: #7fbfbf\">[07/08/25 10:25:52] </span><span style=\"color: #000080; text-decoration-color: #000080\">INFO    </span> 🔧 QuantityOptimizer executing<span style=\"color: #808000; text-decoration-color: #808000\">...</span>                                <a href=\"file://C:\\code\\ai\\mine\\shared\\oxford-ai-2025-group1-full-code\\src\\logistics_agents\\utils\\logging_config.py\" target=\"_blank\"><span style=\"color: #7f7f7f; text-decoration-color: #7f7f7f\">logging_config.py</span></a><span style=\"color: #7f7f7f; text-decoration-color: #7f7f7f\">:</span><a href=\"file://C:\\code\\ai\\mine\\shared\\oxford-ai-2025-group1-full-code\\src\\logistics_agents\\utils\\logging_config.py#236\" target=\"_blank\"><span style=\"color: #7f7f7f; text-decoration-color: #7f7f7f\">236</span></a>\n",
              "</pre>\n"
            ],
            "text/plain": [
              "\u001b[2;36m[07/08/25 10:25:52]\u001b[0m\u001b[2;36m \u001b[0m\u001b[34mINFO    \u001b[0m 🔧 QuantityOptimizer executing\u001b[33m...\u001b[0m                                \u001b]8;id=911910;file://C:\\code\\ai\\mine\\shared\\oxford-ai-2025-group1-full-code\\src\\logistics_agents\\utils\\logging_config.py\u001b\\\u001b[2mlogging_config.py\u001b[0m\u001b]8;;\u001b\\\u001b[2m:\u001b[0m\u001b]8;id=364901;file://C:\\code\\ai\\mine\\shared\\oxford-ai-2025-group1-full-code\\src\\logistics_agents\\utils\\logging_config.py#236\u001b\\\u001b[2m236\u001b[0m\u001b]8;;\u001b\\\n"
            ]
          },
          "metadata": {},
          "output_type": "display_data"
        },
        {
          "data": {
            "text/html": [
              "<pre style=\"white-space:pre;overflow-x:auto;line-height:normal;font-family:Menlo,'DejaVu Sans Mono',consolas,'Courier New',monospace\"><span style=\"color: #7fbfbf; text-decoration-color: #7fbfbf\">                    </span><span style=\"color: #000080; text-decoration-color: #000080\">INFO    </span> 🔧 QuantityOptimizer completed                                   <a href=\"file://C:\\code\\ai\\mine\\shared\\oxford-ai-2025-group1-full-code\\src\\logistics_agents\\utils\\logging_config.py\" target=\"_blank\"><span style=\"color: #7f7f7f; text-decoration-color: #7f7f7f\">logging_config.py</span></a><span style=\"color: #7f7f7f; text-decoration-color: #7f7f7f\">:</span><a href=\"file://C:\\code\\ai\\mine\\shared\\oxford-ai-2025-group1-full-code\\src\\logistics_agents\\utils\\logging_config.py#250\" target=\"_blank\"><span style=\"color: #7f7f7f; text-decoration-color: #7f7f7f\">250</span></a>\n",
              "</pre>\n"
            ],
            "text/plain": [
              "\u001b[2;36m                   \u001b[0m\u001b[2;36m \u001b[0m\u001b[34mINFO    \u001b[0m 🔧 QuantityOptimizer completed                                   \u001b]8;id=378045;file://C:\\code\\ai\\mine\\shared\\oxford-ai-2025-group1-full-code\\src\\logistics_agents\\utils\\logging_config.py\u001b\\\u001b[2mlogging_config.py\u001b[0m\u001b]8;;\u001b\\\u001b[2m:\u001b[0m\u001b]8;id=52941;file://C:\\code\\ai\\mine\\shared\\oxford-ai-2025-group1-full-code\\src\\logistics_agents\\utils\\logging_config.py#250\u001b\\\u001b[2m250\u001b[0m\u001b]8;;\u001b\\\n"
            ]
          },
          "metadata": {},
          "output_type": "display_data"
        },
        {
          "data": {
            "text/html": [
              "<pre style=\"white-space:pre;overflow-x:auto;line-height:normal;font-family:Menlo,'DejaVu Sans Mono',consolas,'Courier New',monospace\"><span style=\"color: #7fbfbf; text-decoration-color: #7fbfbf\">[07/08/25 10:25:58] </span><span style=\"color: #000080; text-decoration-color: #000080\">INFO    </span> 🔧 ResultSynthesizer executing<span style=\"color: #808000; text-decoration-color: #808000\">...</span>                                <a href=\"file://C:\\code\\ai\\mine\\shared\\oxford-ai-2025-group1-full-code\\src\\logistics_agents\\utils\\logging_config.py\" target=\"_blank\"><span style=\"color: #7f7f7f; text-decoration-color: #7f7f7f\">logging_config.py</span></a><span style=\"color: #7f7f7f; text-decoration-color: #7f7f7f\">:</span><a href=\"file://C:\\code\\ai\\mine\\shared\\oxford-ai-2025-group1-full-code\\src\\logistics_agents\\utils\\logging_config.py#236\" target=\"_blank\"><span style=\"color: #7f7f7f; text-decoration-color: #7f7f7f\">236</span></a>\n",
              "</pre>\n"
            ],
            "text/plain": [
              "\u001b[2;36m[07/08/25 10:25:58]\u001b[0m\u001b[2;36m \u001b[0m\u001b[34mINFO    \u001b[0m 🔧 ResultSynthesizer executing\u001b[33m...\u001b[0m                                \u001b]8;id=85543;file://C:\\code\\ai\\mine\\shared\\oxford-ai-2025-group1-full-code\\src\\logistics_agents\\utils\\logging_config.py\u001b\\\u001b[2mlogging_config.py\u001b[0m\u001b]8;;\u001b\\\u001b[2m:\u001b[0m\u001b]8;id=728610;file://C:\\code\\ai\\mine\\shared\\oxford-ai-2025-group1-full-code\\src\\logistics_agents\\utils\\logging_config.py#236\u001b\\\u001b[2m236\u001b[0m\u001b]8;;\u001b\\\n"
            ]
          },
          "metadata": {},
          "output_type": "display_data"
        },
        {
          "data": {
            "text/html": [
              "<pre style=\"white-space:pre;overflow-x:auto;line-height:normal;font-family:Menlo,'DejaVu Sans Mono',consolas,'Courier New',monospace\"><span style=\"color: #7fbfbf; text-decoration-color: #7fbfbf\">                    </span><span style=\"color: #000080; text-decoration-color: #000080\">INFO    </span> 🔧 ResultSynthesizer completed                                   <a href=\"file://C:\\code\\ai\\mine\\shared\\oxford-ai-2025-group1-full-code\\src\\logistics_agents\\utils\\logging_config.py\" target=\"_blank\"><span style=\"color: #7f7f7f; text-decoration-color: #7f7f7f\">logging_config.py</span></a><span style=\"color: #7f7f7f; text-decoration-color: #7f7f7f\">:</span><a href=\"file://C:\\code\\ai\\mine\\shared\\oxford-ai-2025-group1-full-code\\src\\logistics_agents\\utils\\logging_config.py#250\" target=\"_blank\"><span style=\"color: #7f7f7f; text-decoration-color: #7f7f7f\">250</span></a>\n",
              "</pre>\n"
            ],
            "text/plain": [
              "\u001b[2;36m                   \u001b[0m\u001b[2;36m \u001b[0m\u001b[34mINFO    \u001b[0m 🔧 ResultSynthesizer completed                                   \u001b]8;id=565329;file://C:\\code\\ai\\mine\\shared\\oxford-ai-2025-group1-full-code\\src\\logistics_agents\\utils\\logging_config.py\u001b\\\u001b[2mlogging_config.py\u001b[0m\u001b]8;;\u001b\\\u001b[2m:\u001b[0m\u001b]8;id=523626;file://C:\\code\\ai\\mine\\shared\\oxford-ai-2025-group1-full-code\\src\\logistics_agents\\utils\\logging_config.py#250\u001b\\\u001b[2m250\u001b[0m\u001b]8;;\u001b\\\n"
            ]
          },
          "metadata": {},
          "output_type": "display_data"
        },
        {
          "name": "stdout",
          "output_type": "stream",
          "text": [
            "✅ Agent execution complete\n",
            "\n",
            "🤖 BASELINE ORCHESTRATOR CONFIGURATION:\n",
            "🤖 AGENT CONFIGURATION\n",
            "============================================================\n",
            "**Agent Name**: InventoryOrchestrator\n",
            "**Model**: gpt-4o-mini\n",
            "**Tools Available**: coordinate_workflow_steps, create_executive_summary, InventoryThresholdMonitor, RouteComputer, RestockingCalculator, OrderConsolidator\n",
            "\n",
            "📋 **AGENT INSTRUCTIONS/PROMPT**:\n",
            "----------------------------------------\n",
            "You are the Inventory Orchestrator demonstrating the \"Agents as Tools\" pattern.\n",
            "\n",
            "**Learning Focus**: Master multi-agent coordination and result synthesis patterns.\n",
            "\n",
            "**Your Role**: Coordinate specialist agents to solve complex logistics problems that no single agent can handle alone.\n",
            "\n",
            "**Specialist Agents Available (as Tools):**\n",
            "1. **InventoryThresholdMonitor**: Identifies items below reorder thresholds with priority classification\n",
            "2. **RouteComputer**: Calculates delivery routes and schedules for restocking operations  \n",
            "3. **RestockingCalculator**: Analyzes demand patterns and calculates optimal reorder quantities\n",
            "4. **OrderConsolidator**: Groups orders by supplier and calculates consolidation savings\n",
            "\n",
            "**Orchestration Tools:**\n",
            "- coordinate_workflow_steps: Plan the logical sequence of agent coordination\n",
            "- create_executive_summary: Synthesize results from multiple agents into actionable insights\n",
            "\n",
            "**\"Agents as Tools\" Pattern Demonstration:**\n",
            "1. **Sequential Coordination**: Use agents in logical order (threshold → quantity → routes → consolidation)\n",
            "2. **Result Integration**: Each agent's output becomes input for the next agent's analysis\n",
            "3. **Synthesis**: Combine all specialist results into comprehensive recommendations\n",
            "\n",
            "**Approach:**\n",
            "1. Start with coordinate_workflow_steps to plan your orchestration strategy\n",
            "2. Use InventoryThresholdMonitor to identify urgent items requiring attention\n",
            "3. Use RestockingCalculator to determine optimal quantities for flagged items\n",
            "4. Use RouteComputer to plan efficient delivery routes for restocking\n",
            "5. Use OrderConsolidator to identify consolidation opportunities and cost savings\n",
            "6. Use create_executive_summary to synthesize all results into actionable recommendations\n",
            "\n",
            "**Key Learning Objectives:**\n",
            "- Demonstrate how complex problems require multiple specialized agents\n",
            "- Show how agents can be composed as tools within larger workflows\n",
            "- Practice result synthesis and executive-level reporting\n",
            "- Understand the value of agent orchestration vs. single-agent approaches\n",
            "\n",
            "Focus on clear coordination logic and result synthesis that showcases the power of the \"Agents as Tools\" pattern.\n",
            "============================================================\n",
            "\n",
            "📋 BASELINE RESULT:\n",
            "### Executive Summary - Multi-Agent Logistics Analysis\n",
            "\n",
            "#### Situation Overview:\n",
            "- **Total Inventory Items Analyzed**: 100\n",
            "- **Items Requiring Restock**: 21\n",
            "- **Critical Items (Urgent)**: 10\n",
            "- **Suppliers Involved**: 4\n",
            "\n",
            "#### Financial Impact:\n",
            "- **Estimated Restock Cost**: $38,692.54\n",
            "- **Total Potential Consolidation Opportunities**: 4 supplier groups, saving costs by grouping orders effectively\n",
            "\n",
            "#### Detailed Findings:\n",
            "1. **High-Priority Items Identified for Reorder**:\n",
            "   - **SKU2**: Order 193 units (Cost: $2,184.70)\n",
            "   - **SKU4**: Order 236 units (Cost: $1,134.10)\n",
            "   - **SKU6**: Order 261 units (Cost: $1,064.44)\n",
            "   - **SKU9**: Order 78 units (Cost: $4,993.23)\n",
            "   - **SKU15**: Order 94 units (Cost: $3,476.99)\n",
            "\n",
            "2. **Consolidated Orders by Supplier**:\n",
            "   - **Supplier 1**: 7 items; Total Cost: $14,448.23\n",
            "   - **Supplier 2**: 4 items; Total Cost: $11,913.23\n",
            "   - **Supplier 3**: 3 items; Total Cost: $6,144.58\n",
            "   - **Supplier 5**: 2 items; Total Cost: $6,186.50\n",
            "\n",
            "#### Recommended Actions:\n",
            "1. **Immediate Restock**: Prioritize restocking for the **10 critical items** identified.\n",
            "2. **Plan Consolidated Orders**: Proceed with placing orders with the **4 suppliers** to maximize savings.\n",
            "3. **Optimize Delivery Routes**: Calculate delivery routes for efficient restocking once supplier and customer locations are confirmed.\n",
            "4. **Monitoring**: Continue to monitor the **84 stable items** to prevent future shortages and maintain supply chain resilience.\n",
            "\n",
            "---\n",
            "\n",
            "This analysis highlights the effectiveness of multi-agent orchestration in optimizing the supply chain, allowing for timely decision-making and operational efficiency. If you need further assistance or more data to finalize plans for delivery routes, let me know!\n",
            "\n",
            "📋 DETAILED EXECUTION LOG\n",
            "============================================================\n",
            "\n",
            "[10:25:39] 🤖 **AGENT INPUT**:\n",
            "```\n",
            "Coordinate a comprehensive inventory analysis and provide executive recommendations for supply chain optimization.\n",
            "```\n",
            "\n",
            "[10:25:45] 🔧 **TOOL INPUT** (AgentCoordinator):\n",
            "```\n",
            "AgentCoordinator | Context: 100 items\n",
            "```\n",
            "\n",
            "[10:25:45] 📤 **TOOL OUTPUT** (AgentCoordinator):\n",
            "```\n",
            "AgentCoordinator | SUCCESS | 📋 Orchestration Workflow for 100 total items:\n",
            "1. THRESHOLD CHECK: Identify items below reorder thresholds\n",
            "2. DEMAND ANALYSIS: Estimate demand patterns for flagged items\n",
            "3. QUANTITY CALC: Calculate optimal reorder quantities\n",
            "4. ROUTE PLANNING: Plan delivery routes for restocking\n",
            "5. CONSOLIDATION: Group orders by supplier for efficiency\n",
            "6. COST ANALYSIS: Calculate total costs and potential savings\n",
            "\n",
            "🎯 Current Status: 16 items need immediate attention\n",
            "```\n",
            "\n",
            "[10:25:50] 🔧 **TOOL INPUT** (ThresholdChecker):\n",
            "```\n",
            "ThresholdChecker | Context: 100 items\n",
            "```\n",
            "\n",
            "[10:25:50] 📤 **TOOL OUTPUT** (ThresholdChecker):\n",
            "```\n",
            "ThresholdChecker | SUCCESS | ⚠️ THRESHOLD VIOLATIONS FOUND:\n",
            "📊 21 of 100 items below threshold\n",
            "\n",
            "• SKU2: 1 units (threshold: 17) - ProductCategory.HAIRCARE\n",
            "• SKU4: 5 units (threshold: 11) - ProductCategory.SKINCARE\n",
            "• SKU6: 11 units (threshold: 11) - ProductCategory.SKINCARE\n",
            "• SKU8: 5 units (threshold: 10) - ProductCategory.COSMETICS\n",
            "• SKU9: 14 units (threshold: 16) - ProductCategory.SKINCARE\n",
            "... and 16 more items\n",
            "\n",
            "💡 Recommendation: Prioritize restocking for these items\n",
            "```\n",
            "\n",
            "[10:25:50] 🔧 **TOOL INPUT** (SupplierMatcher):\n",
            "```\n",
            "SupplierMatcher | Context: 100 items\n",
            "```\n",
            "\n",
            "[10:25:50] 📤 **TOOL OUTPUT** (SupplierMatcher):\n",
            "```\n",
            "SupplierMatcher | SUCCESS | 🏢 Order consolidation by supplier:\n",
            "Supplier 1: 7 items, $14448.23 total, 5 locations\n",
            "Supplier 3: 3 items, $6144.58 total, 2 locations\n",
            "Supplier 2: 4 items, $11913.23 total, 3 locations\n",
            "Supplier 5: 2 items, $6186.50 total, 2 locations\n",
            "```\n",
            "\n",
            "[10:25:51] 🔧 **TOOL INPUT** (PriorityClassifier):\n",
            "```\n",
            "PriorityClassifier | Context: 100 items\n",
            "```\n",
            "\n",
            "[10:25:51] 📤 **TOOL OUTPUT** (PriorityClassifier):\n",
            "```\n",
            "PriorityClassifier | SUCCESS | 🎯 PRIORITY CLASSIFICATION:\n",
            "🔴 HIGH Priority: 5 items (urgent restocking)\n",
            "🟡 MEDIUM Priority: 7 items (plan restocking)\n",
            "🟢 LOW Priority: 9 items (monitor closely)\n",
            "\n",
            "🔴 High Priority Items:\n",
            "• SKU2: 1 units (ProductCategory.HAIRCARE)\n",
            "• SKU16: 2 units (ProductCategory.SKINCARE)\n",
            "• SKU33: 4 units (ProductCategory.COSMETICS)\n",
            "... and 2 more high priority items\n",
            "\n",
            "💡 Recommendation: Focus immediate attention on HIGH priority items\n",
            "```\n",
            "\n",
            "[10:25:52] 🔧 **TOOL INPUT** (QuantityOptimizer):\n",
            "```\n",
            "QuantityOptimizer | Context: 100 items\n",
            "```\n",
            "\n",
            "[10:25:52] 📤 **TOOL OUTPUT** (QuantityOptimizer):\n",
            "```\n",
            "QuantityOptimizer | SUCCESS | 📦 Reorder quantity recommendations:\n",
            "SKU2: Order 193 units ($2184.70) - Current: 1\n",
            "SKU4: Order 236 units ($1134.10) - Current: 5\n",
            "SKU6: Order 261 units ($1064.44) - Current: 11\n",
            "SKU9: Order 78 units ($4993.23) - Current: 14\n",
            "SKU15: Order 94 units ($3476.99) - Current: 9\n",
            "```\n",
            "\n",
            "[10:25:58] 🔧 **TOOL INPUT** (ResultSynthesizer):\n",
            "```\n",
            "ResultSynthesizer | Context: 100 items\n",
            "```\n",
            "\n",
            "[10:25:58] 📤 **TOOL OUTPUT** (ResultSynthesizer):\n",
            "```\n",
            "ResultSynthesizer | SUCCESS | 📊 EXECUTIVE SUMMARY - Multi-Agent Logistics Analysis\n",
            "\n",
            "🎯 SITUATION OVERVIEW:\n",
            "• Total inventory items analyzed: 100\n",
            "• Items requiring restock: 16\n",
            "• Critical items (urgent): 10\n",
            "• Suppliers involved: 4\n",
            "\n",
            "💰 FINANCIAL IMPACT:\n",
            "• Estimated restock cost: $38692.54\n",
            "• Potential consolidation opportunities: 4 supplier groups\n",
            "\n",
            "🚀 RECOMMENDED ACTIONS:\n",
            "1. Immediate restock for 10 critical items\n",
            "2. Plan consolidated orders with 4 suppliers  \n",
            "3. Optimize delivery routes for cost efficiency\n",
            "4. Monitor 84 stable items\n",
            "\n",
            "This summary demonstrates how an orchestrator synthesizes results from multiple specialist agents.\n",
            "```\n",
            "\n",
            "[10:26:07] ✅ **AGENT OUTPUT**:\n",
            "```\n",
            "### Executive Summary - Multi-Agent Logistics Analysis\n",
            "\n",
            "#### Situation Overview:\n",
            "- **Total Inventory Items Analyzed**: 100\n",
            "- **Items Requiring Restock**: 21\n",
            "- **Critical Items (Urgent)**: 10\n",
            "- **Suppliers Involved**: 4\n",
            "\n",
            "#### Financial Impact:\n",
            "- **Estimated Restock Cost**: $38,692.54\n",
            "- **Total Potential Consolidation Opportunities**: 4 supplier groups, saving costs by grouping orders effectively\n",
            "\n",
            "#### Detailed Findings:\n",
            "1. **High-Priority Items Identified for Reorder**:\n",
            "   - **SKU2**: Order 193 units (Cost: $2,184.70)\n",
            "   - **SKU4**: Order 236 units (Cost: $1,134.10)\n",
            "   - **SKU6**: Order 261 units (Cost: $1,064.44)\n",
            "   - **SKU9**: Order 78 units (Cost: $4,993.23)\n",
            "   - **SKU15**: Order 94 units (Cost: $3,476.99)\n",
            "\n",
            "2. **Consolidated Orders by Supplier**:\n",
            "   - **Supplier 1**: 7 items; Total Cost: $14,448.23\n",
            "   - **Supplier 2**: 4 items; Total Cost: $11,913.23\n",
            "   - **Supplier 3**: 3 items; Total Cost: $6,144.58\n",
            "   - **Supplier 5**: 2 items; Total Cost: $6,186.50\n",
            "\n",
            "#### Recommended Actions:\n",
            "1. **Immediate Restock**: Prioritize restocking for the **10 critical items** identified.\n",
            "2. **Plan Consolidated Orders**: Proceed with placing orders with the **4 suppliers** to maximize savings.\n",
            "3. **Optimize Delivery Routes**: Calculate delivery routes for efficient restocking once supplier and customer locations are confirmed.\n",
            "4. **Monitoring**: Continue to monitor the **84 stable items** to prevent future shortages and maintain supply chain resilience.\n",
            "\n",
            "---\n",
            "\n",
            "This analysis highlights the effectiveness of multi-agent orchestration in optimizing the supply chain, allowing for timely decision-making and operational efficiency. If you need further assistance or more data to finalize plans for delivery routes, let me know!\n",
            "```\n",
            "\n",
            "============================================================\n"
          ]
        }
      ],
      "source": [
        "# BASELINE - Run initial orchestrator\n",
        "orchestrator = InventoryOrchestrator()\n",
        "\n",
        "with trace(workflow_name=\"Baseline\"):\n",
        "    result = await run_agent_with_capture(\n",
        "        orchestrator.agent,\n",
        "        \"Coordinate a comprehensive inventory analysis and provide executive recommendations for supply chain optimization.\",\n",
        "        context\n",
        "    )\n",
        "\n",
        "# Show agent configuration after capture\n",
        "print(\"\\n🤖 BASELINE ORCHESTRATOR CONFIGURATION:\")\n",
        "display_agent_config()\n",
        "\n",
        "print(\"\\n📋 BASELINE RESULT:\")\n",
        "print(result.final_output)\n",
        "\n",
        "# Show detailed execution logs\n",
        "display_logs()\n"
      ]
    },
    {
      "cell_type": "raw",
      "metadata": {
        "vscode": {
          "languageId": "raw"
        }
      },
      "source": [
        "## Iteration 1: [TO BE FILLED]\n",
        "\n",
        "**Changes Made:**\n",
        "- [TO BE FILLED AFTER IMPLEMENTING ITERATION 1]\n",
        "\n",
        "**Expected:** [TO BE FILLED]\n"
      ]
    },
    {
      "cell_type": "code",
      "execution_count": null,
      "metadata": {},
      "outputs": [],
      "source": [
        "# ITERATION 1 - Reload agent and test changes\n",
        "import src.logistics_agents.agents.agent_05_orchestrator.agent as agent_module\n",
        "importlib.reload(agent_module)\n",
        "\n",
        "orchestrator_v1 = agent_module.InventoryOrchestrator()\n",
        "\n",
        "with trace(workflow_name=\"Iteration1\"):\n",
        "    result_v1 = await run_agent_with_capture(\n",
        "        orchestrator_v1.agent,\n",
        "        \"Coordinate a comprehensive inventory analysis and provide executive recommendations for supply chain optimization.\",\n",
        "        context\n",
        "    )\n",
        "\n",
        "# Show updated agent configuration after capture\n",
        "print(\"\\n🔄 ITERATION 1 ORCHESTRATOR CONFIGURATION:\")\n",
        "display_agent_config()\n",
        "\n",
        "print(\"\\n📋 ITERATION 1 RESULT:\")\n",
        "print(result_v1.final_output)\n",
        "\n",
        "# Show detailed execution logs\n",
        "display_logs()\n"
      ]
    },
    {
      "cell_type": "raw",
      "metadata": {
        "vscode": {
          "languageId": "raw"
        }
      },
      "source": [
        "## Iteration 2: [TO BE FILLED]\n",
        "\n",
        "**Changes Made:**\n",
        "- [TO BE FILLED AFTER IMPLEMENTING ITERATION 2]\n",
        "\n",
        "**Expected:** [TO BE FILLED]\n"
      ]
    },
    {
      "cell_type": "code",
      "execution_count": null,
      "metadata": {},
      "outputs": [],
      "source": [
        "# ITERATION 2 - Test final improvements\n",
        "importlib.reload(agent_module)\n",
        "orchestrator_v2 = agent_module.InventoryOrchestrator()\n",
        "\n",
        "with trace(workflow_name=\"Iteration2\"):\n",
        "    result_v2 = await run_agent_with_capture(\n",
        "        orchestrator_v2.agent,\n",
        "        \"Provide a comprehensive supply chain optimization strategy with detailed implementation roadmap.\",\n",
        "        context\n",
        "    )\n",
        "\n",
        "# Show updated agent configuration after capture\n",
        "print(\"\\n🔄 ITERATION 2 ORCHESTRATOR CONFIGURATION:\")\n",
        "display_agent_config()\n",
        "\n",
        "print(\"\\n📋 ITERATION 2 RESULT:\")\n",
        "print(result_v2.final_output)\n",
        "\n",
        "# Show detailed execution logs\n",
        "display_logs()\n"
      ]
    },
    {
      "cell_type": "raw",
      "metadata": {
        "vscode": {
          "languageId": "raw"
        }
      },
      "source": [
        "## Integration: Orchestrator as Master Coordinator\n",
        "\n",
        "Show how this orchestrator coordinates all specialist agents in the \"Agents as Tools\" pattern.\n"
      ]
    },
    {
      "cell_type": "code",
      "execution_count": null,
      "metadata": {},
      "outputs": [],
      "source": [
        "# INTEGRATION - Show orchestrator coordinating all agents\n",
        "print(\"🎯 ORCHESTRATOR COORDINATION PATTERN:\")\n",
        "print(\"\\n📋 Specialist Agents Available as Tools:\")\n",
        "print(\"1. InventoryThresholdMonitor - Identifies urgent items\")\n",
        "print(\"2. RouteComputer - Plans delivery logistics\")\n",
        "print(\"3. RestockingCalculator - Calculates optimal quantities\")\n",
        "print(\"4. OrderConsolidator - Optimizes shipping efficiency\")\n",
        "\n",
        "print(\"\\n🔄 Orchestration Workflow:\")\n",
        "print(\"1. Plan workflow sequence\")\n",
        "print(\"2. Coordinate specialist agents\")\n",
        "print(\"3. Integrate results\")\n",
        "print(\"4. Synthesize executive summary\")\n",
        "\n",
        "print(\"\\n💡 Value of Orchestration:\")\n",
        "print(\"- Solves complex problems no single agent can handle\")\n",
        "print(\"- Coordinates multiple specialists efficiently\")\n",
        "print(\"- Provides executive-level insights\")\n",
        "print(\"- Demonstrates 'Agents as Tools' pattern mastery\")\n"
      ]
    },
    {
      "cell_type": "raw",
      "metadata": {
        "vscode": {
          "languageId": "raw"
        }
      },
      "source": [
        "## Summary & Next Steps\n",
        "\n",
        "**Orchestration Workflow Demonstrated:**\n",
        "1. Import orchestrator from actual codebase\n",
        "2. Make changes to agent.py and tools/ files in VSCode\n",
        "3. Reload with `importlib.reload()` to pick up changes  \n",
        "4. Test and capture agent coordination patterns\n",
        "5. Compare orchestration improvements across iterations\n",
        "\n",
        "**Pattern Mastery:** ✅ Agents as Tools - Master orchestrator coordinating all specialists\n",
        "\n",
        "---\n",
        "\n",
        "## Key Learning Objectives Achieved\n",
        "\n",
        "### \"Agents as Tools\" Pattern:\n",
        "- **Sequential Coordination**: Logical agent workflow planning\n",
        "- **Result Integration**: Agent outputs feeding into next steps\n",
        "- **Complex Problem Solving**: Multi-agent coordination\n",
        "- **Executive Synthesis**: Business-level recommendations\n",
        "\n",
        "### Orchestration Capabilities:\n",
        "- Workflow planning and coordination\n",
        "- Multi-agent result synthesis\n",
        "- Executive-level reporting\n",
        "- Supply chain optimization strategy\n",
        "\n",
        "**Team Assignment:** Agent05=Andy (Orchestrator - coordinates all other agents)\n"
      ]
    }
  ],
  "metadata": {
    "kernelspec": {
      "display_name": ".venv",
      "language": "python",
      "name": "python3"
    },
    "language_info": {
      "codemirror_mode": {
        "name": "ipython",
        "version": 3
      },
      "file_extension": ".py",
      "mimetype": "text/x-python",
      "name": "python",
      "nbconvert_exporter": "python",
      "pygments_lexer": "ipython3",
      "version": "3.11.13"
    }
  },
  "nbformat": 4,
  "nbformat_minor": 2
}
