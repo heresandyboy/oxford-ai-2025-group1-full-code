{
  "cells": [
    {
      "cell_type": "markdown",
      "id": "d2e5a127",
      "metadata": {
        "id": "d2e5a127"
      },
      "source": [
        "# 🏥 Deterministic Agent Workflow for Healthcare Journey Optimization\n",
        "\n",
        "This notebook showcases a complete OpenAI Agent SDK pipeline for analyzing and improving healthcare journey efficiency using three orchestration patterns:\n",
        "\n",
        "1. ✅ **Deterministic Workflow** — simple baseline flow with hardcoded patient data\n",
        "2. ⚡ **Enhanced Flow** — batch analysis of synthetic patient records using `CodeInterpreterTool`, calling Zapier MCP server for composing and emailing final report\n",
        "\n",
        "Each step includes **code, agent tools, and detailed markdown** explanations.\n"
      ]
    },
    {
      "cell_type": "markdown",
      "source": [
        "# Initial Setup"
      ],
      "metadata": {
        "id": "G0FknTPkr8l_"
      },
      "id": "G0FknTPkr8l_"
    },
    {
      "cell_type": "code",
      "execution_count": null,
      "id": "ee1227a2",
      "metadata": {
        "colab": {
          "base_uri": "https://localhost:8080/"
        },
        "id": "ee1227a2",
        "outputId": "445c3229-0f61-4646-f769-8f4773e2508b"
      },
      "outputs": [
        {
          "output_type": "stream",
          "name": "stdout",
          "text": [
            "\u001b[?25l   \u001b[90m━━━━━━━━━━━━━━━━━━━━━━━━━━━━━━━━━━━━━━━━\u001b[0m \u001b[32m0.0/126.7 kB\u001b[0m \u001b[31m?\u001b[0m eta \u001b[36m-:--:--\u001b[0m\r\u001b[2K   \u001b[90m━━━━━━━━━━━━━━━━━━━━━━━━━━━━━━━━━━━━━━━━\u001b[0m \u001b[32m126.7/126.7 kB\u001b[0m \u001b[31m3.5 MB/s\u001b[0m eta \u001b[36m0:00:00\u001b[0m\n",
            "\u001b[2K   \u001b[90m━━━━━━━━━━━━━━━━━━━━━━━━━━━━━━━━━━━━━━━━\u001b[0m \u001b[32m129.3/129.3 kB\u001b[0m \u001b[31m5.3 MB/s\u001b[0m eta \u001b[36m0:00:00\u001b[0m\n",
            "\u001b[2K   \u001b[90m━━━━━━━━━━━━━━━━━━━━━━━━━━━━━━━━━━━━━━━━\u001b[0m \u001b[32m130.2/130.2 kB\u001b[0m \u001b[31m7.4 MB/s\u001b[0m eta \u001b[36m0:00:00\u001b[0m\n",
            "\u001b[2K   \u001b[90m━━━━━━━━━━━━━━━━━━━━━━━━━━━━━━━━━━━━━━━━\u001b[0m \u001b[32m45.2/45.2 kB\u001b[0m \u001b[31m3.1 MB/s\u001b[0m eta \u001b[36m0:00:00\u001b[0m\n",
            "\u001b[?25h"
          ]
        }
      ],
      "source": [
        "# 📦 Install OpenAI Agents SDK and other dependencies\n",
        "!pip install -q openai-agents openai tiktoken pandas matplotlib seaborn"
      ]
    },
    {
      "cell_type": "markdown",
      "source": [
        "## 🔐 Set your OpenAI API Key securely"
      ],
      "metadata": {
        "id": "NjqDJpIegOyH"
      },
      "id": "NjqDJpIegOyH"
    },
    {
      "cell_type": "code",
      "execution_count": null,
      "id": "03eebe1b",
      "metadata": {
        "id": "03eebe1b"
      },
      "outputs": [],
      "source": [
        "# 🔐 Set your OpenAI API Key securely\n",
        "from google.colab import userdata\n",
        "import os\n",
        "\n",
        "os.environ['OPENAI_API_KEY'] = userdata.get('OPENAI_API_KEY')"
      ]
    },
    {
      "cell_type": "markdown",
      "source": [
        "## 📚 Import packages"
      ],
      "metadata": {
        "id": "EJO6QSp_gWmN"
      },
      "id": "EJO6QSp_gWmN"
    },
    {
      "cell_type": "code",
      "execution_count": null,
      "id": "71380702",
      "metadata": {
        "id": "71380702"
      },
      "outputs": [],
      "source": [
        "# 📚 Import packages\n",
        "import pandas as pd\n",
        "import numpy as np\n",
        "from dataclasses import dataclass\n",
        "from typing import List, Dict\n",
        "from agents import Agent, Runner, function_tool, RunContextWrapper\n",
        "from agents import CodeInterpreterTool\n",
        "from agents.mcp import MCPServer, MCPServerSse\n",
        "import json\n",
        "from datetime import datetime, timedelta\n",
        "import matplotlib.pyplot as plt\n",
        "import random\n",
        "from agents.mcp import MCPServer, MCPServerSse\n",
        "from agents.model_settings import ModelSettings"
      ]
    },
    {
      "cell_type": "markdown",
      "id": "7fed18ce",
      "metadata": {
        "id": "7fed18ce"
      },
      "source": [
        "# ✅ Part 1: Deterministic Workflow – Baseline Agent Flow with Hardcoded Input"
      ]
    },
    {
      "cell_type": "markdown",
      "source": [
        "## 🏥 Define structured input for patient journey using dataclass"
      ],
      "metadata": {
        "id": "yHwLHb4FggK1"
      },
      "id": "yHwLHb4FggK1"
    },
    {
      "cell_type": "code",
      "execution_count": null,
      "id": "c1416459",
      "metadata": {
        "id": "c1416459"
      },
      "outputs": [],
      "source": [
        "# 🏥 Define structured input for patient journey\n",
        "@dataclass\n",
        "class PatientJourney:\n",
        "    admission_time: str\n",
        "    discharge_time: str\n",
        "    wait_times: dict  # e.g. {\"triage\": 40, \"consultation\": 75, \"labs\": 30}\n",
        "    readmitted_within_30_days: bool"
      ]
    },
    {
      "cell_type": "markdown",
      "source": [
        "### Define function tools to analyze wait time and check readmission and provide the Patient Journey object as context to be available to the tools"
      ],
      "metadata": {
        "id": "yBcRPl68grAi"
      },
      "id": "yBcRPl68grAi"
    },
    {
      "cell_type": "code",
      "execution_count": null,
      "id": "14c4a869",
      "metadata": {
        "id": "14c4a869"
      },
      "outputs": [],
      "source": [
        "@function_tool\n",
        "def analyze_wait_times(wrapper: RunContextWrapper[PatientJourney]) -> str:\n",
        "    high_wait = {step: t for step, t in wrapper.context.wait_times.items() if t > 60}\n",
        "    if high_wait:\n",
        "        return f\"Bottlenecks found in: {', '.join(high_wait.keys())}\"\n",
        "    return \"No major wait time bottlenecks detected.\"\n"
      ]
    },
    {
      "cell_type": "code",
      "execution_count": null,
      "id": "cf34e340",
      "metadata": {
        "id": "cf34e340"
      },
      "outputs": [],
      "source": [
        "@function_tool\n",
        "def check_readmission(wrapper: RunContextWrapper[PatientJourney]) -> str:\n",
        "    if wrapper.context.readmitted_within_30_days:\n",
        "        return \"🚨 Readmitted within 30 days\"\n",
        "    return \"✅ No readmission\"\n"
      ]
    },
    {
      "cell_type": "markdown",
      "source": [
        "### **Define wait_agent, readmit_agent and recommendation_agent and provide the PatientJourney object as context to the agents**"
      ],
      "metadata": {
        "id": "xyT6xBiFg0ML"
      },
      "id": "xyT6xBiFg0ML"
    },
    {
      "cell_type": "code",
      "execution_count": null,
      "id": "039cd6a7",
      "metadata": {
        "id": "039cd6a7"
      },
      "outputs": [],
      "source": [
        "wait_agent = Agent[PatientJourney](\n",
        "    name=\"WaitTimeAgent\",\n",
        "    instructions=\"Analyze wait times and identify any delays over 60 minutes and use the patient journey information provided as {patient_journey_dict}\",\n",
        "    model=\"gpt-4o\",\n",
        "    tools=[analyze_wait_times],\n",
        "    output_type=str\n",
        ")\n",
        "\n",
        "readmit_agent = Agent[PatientJourney](\n",
        "    name=\"ReadmitAgent\",\n",
        "    instructions=\"Check if patient was readmitted\",\n",
        "    model=\"gpt-4o-mini\",\n",
        "    tools=[check_readmission],\n",
        "    output_type=str\n",
        ")\n",
        "\n",
        "recommendation_agent = Agent(\n",
        "    name=\"RecommendationAgent\",\n",
        "    instructions=\"Given messages about wait times and readmission, generate a final summary recommendation.\",\n",
        "    model=\"gpt-4o-mini\",\n",
        "    output_type=str\n",
        ")"
      ]
    },
    {
      "cell_type": "markdown",
      "source": [
        "### **Define the sequence of agents for deterministic flow**"
      ],
      "metadata": {
        "id": "W7-SsiiThEL1"
      },
      "id": "W7-SsiiThEL1"
    },
    {
      "cell_type": "code",
      "source": [
        "# 🔁 Step 4: Deterministic Execution Flow\n",
        "async def run_pipeline(journey: PatientJourney):\n",
        "    print(\"🔍 Step 1: Wait time analysis...\")\n",
        "    # Convert the Pydantic model to a dictionary before passing to Runner.run\n",
        "\n",
        "    wait_result = await Runner.run(wait_agent, input = \"Use the use patient journey provided from {journey} \", context=journey)\n",
        "    print(\"\\t\", wait_result.final_output)\n",
        "\n",
        "    print(\"🔍 Step 2: Readmission check...\")\n",
        "    readmit_result = await Runner.run(readmit_agent, input = \"Use the use patient journey provided from {journey} \", context=journey)\n",
        "    print(\"\\t\", readmit_result.final_output)\n",
        "\n",
        "    print(\"🧠 Step 3: Generating final recommendation...\")\n",
        "    # Pass the two string results as separate items in a list to Runner.run\n",
        "    result3 = await Runner.run(recommendation_agent,input = \"Please review triage and consultation times and evaluate causes of readmission \", context=[wait_result.final_output, readmit_result.final_output])\n",
        "    print(\"\\n✅ Recommendation:\")\n",
        "    print(result3.final_output)"
      ],
      "metadata": {
        "id": "Br1V1ksJcPBo"
      },
      "id": "Br1V1ksJcPBo",
      "execution_count": null,
      "outputs": []
    },
    {
      "cell_type": "markdown",
      "source": [
        "### **Define the sample data**"
      ],
      "metadata": {
        "id": "tXHTMpjOhRbf"
      },
      "id": "tXHTMpjOhRbf"
    },
    {
      "cell_type": "code",
      "execution_count": null,
      "id": "de20ebd3",
      "metadata": {
        "id": "de20ebd3"
      },
      "outputs": [],
      "source": [
        "example_input = PatientJourney(\n",
        "    admission_time=\"2025-06-10T10:00:00\",\n",
        "    discharge_time=\"2025-06-12T14:00:00\",\n",
        "    wait_times={\"triage\": 45, \"consultation\": 80, \"labs\": 25},\n",
        "    readmitted_within_30_days=True\n",
        ")"
      ]
    },
    {
      "cell_type": "markdown",
      "source": [
        "### **Execute deterministic flow by providing sample data**"
      ],
      "metadata": {
        "id": "GQgWNs_EhZei"
      },
      "id": "GQgWNs_EhZei"
    },
    {
      "cell_type": "code",
      "source": [
        "await run_pipeline(example_input)"
      ],
      "metadata": {
        "colab": {
          "base_uri": "https://localhost:8080/"
        },
        "id": "PJXYipdbc_jz",
        "outputId": "aced7059-36dd-4c97-bae7-c65eff12b4ba"
      },
      "id": "PJXYipdbc_jz",
      "execution_count": null,
      "outputs": [
        {
          "output_type": "stream",
          "name": "stdout",
          "text": [
            "🔍 Step 1: Wait time analysis...\n",
            "\t The analysis identified a bottleneck in the consultation phase. This may be causing delays over 60 minutes in wait times. Could you provide more details or specific patient journey information for a deeper analysis?\n",
            "🔍 Step 2: Readmission check...\n",
            "\t The patient was readmitted within 30 days. If you need further details or next steps, let me know!\n",
            "🧠 Step 3: Generating final recommendation...\n",
            "\n",
            "✅ Recommendation:\n",
            "Certainly! Here’s a summary recommendation based on the evaluation of triage and consultation times, along with considerations of readmission causes:\n",
            "\n",
            "### Summary Recommendation\n",
            "\n",
            "1. **Triage and Consultation Times**:\n",
            "   - **Assessment**: Review current protocols for triage to ensure timely assessment of patients. Track wait times to identify any bottlenecks.\n",
            "   - **Improvement**: Implement a triage team dedicated to reducing wait times during peak hours. Consider utilizing telemedicine for initial consultations to expedite the process.\n",
            "\n",
            "2. **Causes of Readmission**:\n",
            "   - **Analysis**: Conduct a comprehensive review of patient readmissions to identify common factors, such as underlying health conditions, lack of follow-up care, or inadequate discharge planning.\n",
            "   - **Intervention**: Develop targeted educational programs for patients upon discharge, focusing on symptom recognition, medication management, and follow-up appointments.\n",
            "\n",
            "3. **Integrated Care Approach**:\n",
            "   - **Collaboration**: Enhance communication among care teams across departments. Consider implementing multidisciplinary rounds to ensure all aspects of a patient's care are addressed.\n",
            "   - **Follow-Up**: Establish a robust follow-up system via phone calls or home visits to monitor patient progress post-discharge.\n",
            "\n",
            "4. **Data-Driven Strategies**:\n",
            "   - **Monitoring**: Regularly collect and analyze data on triage times and readmission rates to track the effectiveness of implemented strategies.\n",
            "   - **Feedback Loop**: Create a feedback system for staff to report challenges and successes, fostering a culture of continuous improvement.\n",
            "\n",
            "5. **Patient Engagement**:\n",
            "   - Involve patients in their care plans by encouraging questions and participation in decision-making processes. This can lead to greater adherence to treatment and prevention of readmission.\n",
            "\n",
            "### Conclusion\n",
            "By optimizing triage processes, addressing known causes of readmissions, and fostering strong patient-provider relationships, we can enhance patient outcomes and reduce unnecessary readmissions. Continuous monitoring and improvement will be crucial in maintaining the effectiveness of these strategies.\n"
          ]
        }
      ]
    },
    {
      "cell_type": "markdown",
      "id": "8bd7ab97",
      "metadata": {
        "id": "8bd7ab97"
      },
      "source": [
        "#⚡ Part 2: Enhanced Workflow – Analyze Trends with CodeInterpreterTool\n",
        "\n",
        "We now scale the solution to handle multiple patient journeys by generating synthetic data and analyzing it using OpenAI’s **CodeInterpreterTool**.\n",
        "\n",
        "### Goals:\n",
        "- Generate 100 synthetic records and save as CSV\n",
        "- Load the data and compute:\n",
        "  - Average wait time per service\n",
        "  - Services with most delays\n",
        "  - Readmission rate\n",
        "- Show visualizations\n"
      ]
    },
    {
      "cell_type": "code",
      "execution_count": null,
      "id": "cb2489ae",
      "metadata": {
        "colab": {
          "base_uri": "https://localhost:8080/",
          "height": 206
        },
        "id": "cb2489ae",
        "outputId": "cd1fccac-b17e-426e-c9cf-c3784ef3498c"
      },
      "outputs": [
        {
          "output_type": "execute_result",
          "data": {
            "text/plain": [
              "        admission_time       discharge_time  \\\n",
              "0  2025-06-04T00:00:00  2025-06-05T00:00:00   \n",
              "1  2025-06-13T00:00:00  2025-06-15T00:00:00   \n",
              "2  2025-06-08T00:00:00  2025-06-09T00:00:00   \n",
              "3  2025-06-12T00:00:00  2025-06-15T00:00:00   \n",
              "4  2025-06-09T00:00:00  2025-06-12T00:00:00   \n",
              "\n",
              "                                        wait_times  readmitted_within_30_days  \n",
              "0   {\"triage\": 49, \"consultation\": 87, \"labs\": 44}                      False  \n",
              "1  {\"triage\": 73, \"consultation\": 108, \"labs\": 28}                      False  \n",
              "2   {\"triage\": 23, \"consultation\": 58, \"labs\": 31}                       True  \n",
              "3   {\"triage\": 26, \"consultation\": 49, \"labs\": 51}                       True  \n",
              "4   {\"triage\": 50, \"consultation\": 95, \"labs\": 47}                      False  "
            ],
            "text/html": [
              "\n",
              "  <div id=\"df-9d5a7f7f-1bef-42e2-9061-8eab529a1616\" class=\"colab-df-container\">\n",
              "    <div>\n",
              "<style scoped>\n",
              "    .dataframe tbody tr th:only-of-type {\n",
              "        vertical-align: middle;\n",
              "    }\n",
              "\n",
              "    .dataframe tbody tr th {\n",
              "        vertical-align: top;\n",
              "    }\n",
              "\n",
              "    .dataframe thead th {\n",
              "        text-align: right;\n",
              "    }\n",
              "</style>\n",
              "<table border=\"1\" class=\"dataframe\">\n",
              "  <thead>\n",
              "    <tr style=\"text-align: right;\">\n",
              "      <th></th>\n",
              "      <th>admission_time</th>\n",
              "      <th>discharge_time</th>\n",
              "      <th>wait_times</th>\n",
              "      <th>readmitted_within_30_days</th>\n",
              "    </tr>\n",
              "  </thead>\n",
              "  <tbody>\n",
              "    <tr>\n",
              "      <th>0</th>\n",
              "      <td>2025-06-04T00:00:00</td>\n",
              "      <td>2025-06-05T00:00:00</td>\n",
              "      <td>{\"triage\": 49, \"consultation\": 87, \"labs\": 44}</td>\n",
              "      <td>False</td>\n",
              "    </tr>\n",
              "    <tr>\n",
              "      <th>1</th>\n",
              "      <td>2025-06-13T00:00:00</td>\n",
              "      <td>2025-06-15T00:00:00</td>\n",
              "      <td>{\"triage\": 73, \"consultation\": 108, \"labs\": 28}</td>\n",
              "      <td>False</td>\n",
              "    </tr>\n",
              "    <tr>\n",
              "      <th>2</th>\n",
              "      <td>2025-06-08T00:00:00</td>\n",
              "      <td>2025-06-09T00:00:00</td>\n",
              "      <td>{\"triage\": 23, \"consultation\": 58, \"labs\": 31}</td>\n",
              "      <td>True</td>\n",
              "    </tr>\n",
              "    <tr>\n",
              "      <th>3</th>\n",
              "      <td>2025-06-12T00:00:00</td>\n",
              "      <td>2025-06-15T00:00:00</td>\n",
              "      <td>{\"triage\": 26, \"consultation\": 49, \"labs\": 51}</td>\n",
              "      <td>True</td>\n",
              "    </tr>\n",
              "    <tr>\n",
              "      <th>4</th>\n",
              "      <td>2025-06-09T00:00:00</td>\n",
              "      <td>2025-06-12T00:00:00</td>\n",
              "      <td>{\"triage\": 50, \"consultation\": 95, \"labs\": 47}</td>\n",
              "      <td>False</td>\n",
              "    </tr>\n",
              "  </tbody>\n",
              "</table>\n",
              "</div>\n",
              "    <div class=\"colab-df-buttons\">\n",
              "\n",
              "  <div class=\"colab-df-container\">\n",
              "    <button class=\"colab-df-convert\" onclick=\"convertToInteractive('df-9d5a7f7f-1bef-42e2-9061-8eab529a1616')\"\n",
              "            title=\"Convert this dataframe to an interactive table.\"\n",
              "            style=\"display:none;\">\n",
              "\n",
              "  <svg xmlns=\"http://www.w3.org/2000/svg\" height=\"24px\" viewBox=\"0 -960 960 960\">\n",
              "    <path d=\"M120-120v-720h720v720H120Zm60-500h600v-160H180v160Zm220 220h160v-160H400v160Zm0 220h160v-160H400v160ZM180-400h160v-160H180v160Zm440 0h160v-160H620v160ZM180-180h160v-160H180v160Zm440 0h160v-160H620v160Z\"/>\n",
              "  </svg>\n",
              "    </button>\n",
              "\n",
              "  <style>\n",
              "    .colab-df-container {\n",
              "      display:flex;\n",
              "      gap: 12px;\n",
              "    }\n",
              "\n",
              "    .colab-df-convert {\n",
              "      background-color: #E8F0FE;\n",
              "      border: none;\n",
              "      border-radius: 50%;\n",
              "      cursor: pointer;\n",
              "      display: none;\n",
              "      fill: #1967D2;\n",
              "      height: 32px;\n",
              "      padding: 0 0 0 0;\n",
              "      width: 32px;\n",
              "    }\n",
              "\n",
              "    .colab-df-convert:hover {\n",
              "      background-color: #E2EBFA;\n",
              "      box-shadow: 0px 1px 2px rgba(60, 64, 67, 0.3), 0px 1px 3px 1px rgba(60, 64, 67, 0.15);\n",
              "      fill: #174EA6;\n",
              "    }\n",
              "\n",
              "    .colab-df-buttons div {\n",
              "      margin-bottom: 4px;\n",
              "    }\n",
              "\n",
              "    [theme=dark] .colab-df-convert {\n",
              "      background-color: #3B4455;\n",
              "      fill: #D2E3FC;\n",
              "    }\n",
              "\n",
              "    [theme=dark] .colab-df-convert:hover {\n",
              "      background-color: #434B5C;\n",
              "      box-shadow: 0px 1px 3px 1px rgba(0, 0, 0, 0.15);\n",
              "      filter: drop-shadow(0px 1px 2px rgba(0, 0, 0, 0.3));\n",
              "      fill: #FFFFFF;\n",
              "    }\n",
              "  </style>\n",
              "\n",
              "    <script>\n",
              "      const buttonEl =\n",
              "        document.querySelector('#df-9d5a7f7f-1bef-42e2-9061-8eab529a1616 button.colab-df-convert');\n",
              "      buttonEl.style.display =\n",
              "        google.colab.kernel.accessAllowed ? 'block' : 'none';\n",
              "\n",
              "      async function convertToInteractive(key) {\n",
              "        const element = document.querySelector('#df-9d5a7f7f-1bef-42e2-9061-8eab529a1616');\n",
              "        const dataTable =\n",
              "          await google.colab.kernel.invokeFunction('convertToInteractive',\n",
              "                                                    [key], {});\n",
              "        if (!dataTable) return;\n",
              "\n",
              "        const docLinkHtml = 'Like what you see? Visit the ' +\n",
              "          '<a target=\"_blank\" href=https://colab.research.google.com/notebooks/data_table.ipynb>data table notebook</a>'\n",
              "          + ' to learn more about interactive tables.';\n",
              "        element.innerHTML = '';\n",
              "        dataTable['output_type'] = 'display_data';\n",
              "        await google.colab.output.renderOutput(dataTable, element);\n",
              "        const docLink = document.createElement('div');\n",
              "        docLink.innerHTML = docLinkHtml;\n",
              "        element.appendChild(docLink);\n",
              "      }\n",
              "    </script>\n",
              "  </div>\n",
              "\n",
              "\n",
              "    <div id=\"df-5b094dcc-f1e6-4b3a-9985-b6acd91a7730\">\n",
              "      <button class=\"colab-df-quickchart\" onclick=\"quickchart('df-5b094dcc-f1e6-4b3a-9985-b6acd91a7730')\"\n",
              "                title=\"Suggest charts\"\n",
              "                style=\"display:none;\">\n",
              "\n",
              "<svg xmlns=\"http://www.w3.org/2000/svg\" height=\"24px\"viewBox=\"0 0 24 24\"\n",
              "     width=\"24px\">\n",
              "    <g>\n",
              "        <path d=\"M19 3H5c-1.1 0-2 .9-2 2v14c0 1.1.9 2 2 2h14c1.1 0 2-.9 2-2V5c0-1.1-.9-2-2-2zM9 17H7v-7h2v7zm4 0h-2V7h2v10zm4 0h-2v-4h2v4z\"/>\n",
              "    </g>\n",
              "</svg>\n",
              "      </button>\n",
              "\n",
              "<style>\n",
              "  .colab-df-quickchart {\n",
              "      --bg-color: #E8F0FE;\n",
              "      --fill-color: #1967D2;\n",
              "      --hover-bg-color: #E2EBFA;\n",
              "      --hover-fill-color: #174EA6;\n",
              "      --disabled-fill-color: #AAA;\n",
              "      --disabled-bg-color: #DDD;\n",
              "  }\n",
              "\n",
              "  [theme=dark] .colab-df-quickchart {\n",
              "      --bg-color: #3B4455;\n",
              "      --fill-color: #D2E3FC;\n",
              "      --hover-bg-color: #434B5C;\n",
              "      --hover-fill-color: #FFFFFF;\n",
              "      --disabled-bg-color: #3B4455;\n",
              "      --disabled-fill-color: #666;\n",
              "  }\n",
              "\n",
              "  .colab-df-quickchart {\n",
              "    background-color: var(--bg-color);\n",
              "    border: none;\n",
              "    border-radius: 50%;\n",
              "    cursor: pointer;\n",
              "    display: none;\n",
              "    fill: var(--fill-color);\n",
              "    height: 32px;\n",
              "    padding: 0;\n",
              "    width: 32px;\n",
              "  }\n",
              "\n",
              "  .colab-df-quickchart:hover {\n",
              "    background-color: var(--hover-bg-color);\n",
              "    box-shadow: 0 1px 2px rgba(60, 64, 67, 0.3), 0 1px 3px 1px rgba(60, 64, 67, 0.15);\n",
              "    fill: var(--button-hover-fill-color);\n",
              "  }\n",
              "\n",
              "  .colab-df-quickchart-complete:disabled,\n",
              "  .colab-df-quickchart-complete:disabled:hover {\n",
              "    background-color: var(--disabled-bg-color);\n",
              "    fill: var(--disabled-fill-color);\n",
              "    box-shadow: none;\n",
              "  }\n",
              "\n",
              "  .colab-df-spinner {\n",
              "    border: 2px solid var(--fill-color);\n",
              "    border-color: transparent;\n",
              "    border-bottom-color: var(--fill-color);\n",
              "    animation:\n",
              "      spin 1s steps(1) infinite;\n",
              "  }\n",
              "\n",
              "  @keyframes spin {\n",
              "    0% {\n",
              "      border-color: transparent;\n",
              "      border-bottom-color: var(--fill-color);\n",
              "      border-left-color: var(--fill-color);\n",
              "    }\n",
              "    20% {\n",
              "      border-color: transparent;\n",
              "      border-left-color: var(--fill-color);\n",
              "      border-top-color: var(--fill-color);\n",
              "    }\n",
              "    30% {\n",
              "      border-color: transparent;\n",
              "      border-left-color: var(--fill-color);\n",
              "      border-top-color: var(--fill-color);\n",
              "      border-right-color: var(--fill-color);\n",
              "    }\n",
              "    40% {\n",
              "      border-color: transparent;\n",
              "      border-right-color: var(--fill-color);\n",
              "      border-top-color: var(--fill-color);\n",
              "    }\n",
              "    60% {\n",
              "      border-color: transparent;\n",
              "      border-right-color: var(--fill-color);\n",
              "    }\n",
              "    80% {\n",
              "      border-color: transparent;\n",
              "      border-right-color: var(--fill-color);\n",
              "      border-bottom-color: var(--fill-color);\n",
              "    }\n",
              "    90% {\n",
              "      border-color: transparent;\n",
              "      border-bottom-color: var(--fill-color);\n",
              "    }\n",
              "  }\n",
              "</style>\n",
              "\n",
              "      <script>\n",
              "        async function quickchart(key) {\n",
              "          const quickchartButtonEl =\n",
              "            document.querySelector('#' + key + ' button');\n",
              "          quickchartButtonEl.disabled = true;  // To prevent multiple clicks.\n",
              "          quickchartButtonEl.classList.add('colab-df-spinner');\n",
              "          try {\n",
              "            const charts = await google.colab.kernel.invokeFunction(\n",
              "                'suggestCharts', [key], {});\n",
              "          } catch (error) {\n",
              "            console.error('Error during call to suggestCharts:', error);\n",
              "          }\n",
              "          quickchartButtonEl.classList.remove('colab-df-spinner');\n",
              "          quickchartButtonEl.classList.add('colab-df-quickchart-complete');\n",
              "        }\n",
              "        (() => {\n",
              "          let quickchartButtonEl =\n",
              "            document.querySelector('#df-5b094dcc-f1e6-4b3a-9985-b6acd91a7730 button');\n",
              "          quickchartButtonEl.style.display =\n",
              "            google.colab.kernel.accessAllowed ? 'block' : 'none';\n",
              "        })();\n",
              "      </script>\n",
              "    </div>\n",
              "\n",
              "    </div>\n",
              "  </div>\n"
            ],
            "application/vnd.google.colaboratory.intrinsic+json": {
              "type": "dataframe",
              "variable_name": "df",
              "summary": "{\n  \"name\": \"df\",\n  \"rows\": 100,\n  \"fields\": [\n    {\n      \"column\": \"admission_time\",\n      \"properties\": {\n        \"dtype\": \"object\",\n        \"num_unique_values\": 15,\n        \"samples\": [\n          \"2025-06-10T00:00:00\",\n          \"2025-06-06T00:00:00\",\n          \"2025-06-04T00:00:00\"\n        ],\n        \"semantic_type\": \"\",\n        \"description\": \"\"\n      }\n    },\n    {\n      \"column\": \"discharge_time\",\n      \"properties\": {\n        \"dtype\": \"object\",\n        \"num_unique_values\": 17,\n        \"samples\": [\n          \"2025-06-05T00:00:00\",\n          \"2025-06-15T00:00:00\",\n          \"2025-06-06T00:00:00\"\n        ],\n        \"semantic_type\": \"\",\n        \"description\": \"\"\n      }\n    },\n    {\n      \"column\": \"wait_times\",\n      \"properties\": {\n        \"dtype\": \"string\",\n        \"num_unique_values\": 100,\n        \"samples\": [\n          \"{\\\"triage\\\": 12, \\\"consultation\\\": 61, \\\"labs\\\": 60}\",\n          \"{\\\"triage\\\": 27, \\\"consultation\\\": 20, \\\"labs\\\": 38}\",\n          \"{\\\"triage\\\": 35, \\\"consultation\\\": 91, \\\"labs\\\": 21}\"\n        ],\n        \"semantic_type\": \"\",\n        \"description\": \"\"\n      }\n    },\n    {\n      \"column\": \"readmitted_within_30_days\",\n      \"properties\": {\n        \"dtype\": \"boolean\",\n        \"num_unique_values\": 2,\n        \"samples\": [\n          true,\n          false\n        ],\n        \"semantic_type\": \"\",\n        \"description\": \"\"\n      }\n    }\n  ]\n}"
            }
          },
          "metadata": {},
          "execution_count": 11
        }
      ],
      "source": [
        "# 📊 Generate synthetic patient data\n",
        "\n",
        "def generate_synthetic_journeys(n=100):\n",
        "    data = []\n",
        "    for _ in range(n):\n",
        "        admit = datetime(2025, 6, 1) + timedelta(days=random.randint(0, 14))\n",
        "        discharge = admit + timedelta(days=random.randint(1, 3))\n",
        "        wait_times = {\n",
        "            \"triage\": random.randint(10, 90),\n",
        "            \"consultation\": random.randint(20, 120),\n",
        "            \"labs\": random.randint(15, 60)\n",
        "        }\n",
        "        readmit = random.choice([True] * 3 + [False] * 7)\n",
        "        data.append({\n",
        "            \"admission_time\": admit.isoformat(),\n",
        "            \"discharge_time\": discharge.isoformat(),\n",
        "            \"wait_times\": json.dumps(wait_times),\n",
        "            \"readmitted_within_30_days\": readmit\n",
        "        })\n",
        "    return pd.DataFrame(data)\n",
        "\n",
        "df = generate_synthetic_journeys()\n",
        "df.to_csv(\"synthetic_patient_data.csv\", index=False) # Changed to .csv\n",
        "df.head()"
      ]
    },
    {
      "cell_type": "markdown",
      "source": [
        "## Define the trend agent to take the data and use code interpreter"
      ],
      "metadata": {
        "id": "Zm20ya2biHne"
      },
      "id": "Zm20ya2biHne"
    },
    {
      "cell_type": "code",
      "source": [
        "from pydantic import BaseModel\n",
        "from typing import Dict, List\n",
        "\n",
        "@dataclass\n",
        "class TrendAnalysisResult():\n",
        "    avg_wait_times: Dict[str, float]\n",
        "    delays_over_60min: Dict[str, int]\n",
        "    readmission_rate_percent: float\n",
        "    summary_text: str  # Optional: summary paragraph or markdown text\n"
      ],
      "metadata": {
        "id": "CURUSvnXC-V1"
      },
      "id": "CURUSvnXC-V1",
      "execution_count": null,
      "outputs": []
    },
    {
      "cell_type": "code",
      "execution_count": null,
      "id": "df890bb0",
      "metadata": {
        "id": "df890bb0"
      },
      "outputs": [],
      "source": [
        "from agents import CodeInterpreterTool,AgentOutputSchema\n",
        "# 🤖 Use CodeInterpreterTool to analyze CSV trends\n",
        "\n",
        "\n",
        "trend_agent = Agent[TrendAnalysisResult](\n",
        "    name=\"TrendAnalyzer\",\n",
        "    instructions=\"\"\"Analyze the CSV file. Return:\n",
        "1. Average wait times per service\n",
        "2. Services most frequently delayed (>60 min)\n",
        "3. Readmission rate as percentage\n",
        "Also generate a bar chart for average wait time.in the format {TrendAnalysisResult}\"\"\" ,\n",
        "    model=\"gpt-4o-mini\",\n",
        "    tools=[\n",
        "            CodeInterpreterTool(\n",
        "                tool_config={\"type\": \"code_interpreter\", \"container\": {\"type\": \"auto\"}},\n",
        "            )\n",
        "        ],\n",
        "    output_type=AgentOutputSchema(TrendAnalysisResult,strict_json_schema=False)\n",
        ")\n",
        "\n"
      ]
    },
    {
      "cell_type": "markdown",
      "id": "60832678",
      "metadata": {
        "id": "60832678"
      },
      "source": [
        "## 📤 Email Report via MCPTool and Zapier Gmail\n",
        "\n",
        "This final part demonstrates the **usage of MCP**:\n",
        "- A report agent is called dynamically to generate a system summary\n",
        "- The output is sent as an email using `MCPServerSSE` (which calls a Zapier Gmail webhook)\n"
      ]
    },
    {
      "cell_type": "markdown",
      "source": [
        "### Synthesize report function to format the report"
      ],
      "metadata": {
        "id": "4Porjhf1ij6c"
      },
      "id": "4Porjhf1ij6c"
    },
    {
      "cell_type": "code",
      "execution_count": null,
      "id": "c1c963c6",
      "metadata": {
        "id": "c1c963c6"
      },
      "outputs": [],
      "source": [
        "@function_tool(strict_mode=False)\n",
        "def synthesize_report(wrapper: RunContextWrapper[TrendAnalysisResult]) -> str:\n",
        "    result = wrapper.context  # This is now a TrendAnalysisResult Pydantic object\n",
        "\n",
        "    # 🧾 Format wait time averages\n",
        "    avg_wait_lines = \"\\n\".join(f\"- {service.title()}: {minutes:.2f} min\"\n",
        "                               for service, minutes in result.avg_wait_times.items())\n",
        "\n",
        "    # 🛑 Format delay frequencies\n",
        "    delay_lines = \"\\n\".join(f\"- {service.title()}: {count} occurrences\"\n",
        "                            for service, count in result.delays_over_60min.items())\n",
        "\n",
        "    # 📧 Compose report text\n",
        "    return f\"\"\"📋 Healthcare System Summary Report\n",
        "\n",
        "🕒 Average Wait Times:\n",
        "----------------------\n",
        "{avg_wait_lines}\n",
        "\n",
        "⚠️ Delays Over 60 Minutes:\n",
        "--------------------------\n",
        "{delay_lines}\n",
        "\n",
        "🔁 Readmission Rate:\n",
        "---------------------\n",
        "{result.readmission_rate_percent:.1f}%\n",
        "\n",
        "📝 Summary:\n",
        "-----------\n",
        "{result.summary_text}\n",
        "\n",
        "Regards,\n",
        "AI Monitoring System\n",
        "\"\"\"\n"
      ]
    },
    {
      "cell_type": "markdown",
      "source": [
        "### MCP implementation"
      ],
      "metadata": {
        "id": "vxOfE8QHiucx"
      },
      "id": "vxOfE8QHiucx"
    },
    {
      "cell_type": "code",
      "source": [
        "# Convert file to text for code interpreter\n",
        "csv_text = open(\"synthetic_patient_data.csv\", \"r\").read()\n",
        "url = userdata.get('MCP_SERVER_URL_SSE')\n",
        "# Step 2: Manually initialize the MCPServerSse\n",
        "mcp_server = MCPServerSse(\n",
        "    name=\"MCP_Email\",\n",
        "    params={\n",
        "        \"url\": url\n",
        "    },\n",
        "    client_session_timeout_seconds = 30\n",
        "\n",
        ")\n",
        "\n",
        "\n",
        "# Step 3 Define the agent that uses the MCP server\n",
        "report_agent = Agent(\n",
        "    name=\"EmailAgent\",\n",
        "    instructions=\"Generate a professional email summary by calling synthesize_report tool , based on wait and trend analysis recieved from the trend_agent and reciepient name is Anjali Jain , It should not include the visuals in emails.\",\n",
        "    mcp_servers=[mcp_server],\n",
        "    model_settings=ModelSettings(tool_choice=\"required\"),\n",
        "    model=\"gpt-4o-mini\",\n",
        "    tools=[synthesize_report],\n",
        "    output_type=str,\n",
        ")\n",
        "\n",
        "# Step 4: Generate the report\n",
        "analysis_result = await Runner.run(trend_agent, input=csv_text)\n",
        "print(analysis_result)\n",
        "# Step 5: Await entry (equivalent to `async with`)\n",
        "await mcp_server.__aenter__()\n",
        "# Step 6: Run the agent with the analysis result\n",
        "#result = await Runner.run(report_agent, input=analysis_result.final_output)\n",
        "result = await Runner.run(report_agent, input = \"generate the report by calling synthesize_report tool first and then send the synthesized data to create the email\",context=analysis_result.final_output)\n",
        "print(\"📧 Email result:\", result.final_output)\n",
        "\n",
        "# Step 7: Clean up the MCP server session\n",
        "await mcp_server.__aexit__(None, None, None)\n"
      ],
      "metadata": {
        "colab": {
          "base_uri": "https://localhost:8080/"
        },
        "id": "vhtvaSFQjlgd",
        "outputId": "6d413599-33e6-4796-accf-3d177c24f40f"
      },
      "id": "vhtvaSFQjlgd",
      "execution_count": null,
      "outputs": [
        {
          "output_type": "stream",
          "name": "stdout",
          "text": [
            "RunResult:\n",
            "- Last agent: Agent(name=\"TrendAnalyzer\", ...)\n",
            "- Final output (TrendAnalysisResult):\n",
            "    TrendAnalysisResult(avg_wait_times={'triage': 45.15, 'consultation': 73.81, 'labs': 38.22}, delays_over_60min={'triage': 27, 'consultation': 66}, readmission_rate_percent=30.0, summary_text='The average wait times are 45.15 minutes for triage, 73.81 minutes for consultation, and 38.22 minutes for labs. There are 27 delays over 60 minutes in triage and 66 in consultation. The readmission rate within 30 days is 30%.')\n",
            "- 5 new item(s)\n",
            "- 1 raw response(s)\n",
            "- 0 input guardrail result(s)\n",
            "- 0 output guardrail result(s)\n",
            "(See `RunResult` for more details)\n",
            "📧 Email result: The email summary has been successfully sent to Anjali Jain. Here are the details of the email:\n",
            "\n",
            "### Subject: Healthcare System Summary Report\n",
            "\n",
            "**Body:**\n",
            "```\n",
            "Dear Anjali Jain,\n",
            "\n",
            "Please find below the summary of our healthcare system report regarding wait times and additional metrics:\n",
            "\n",
            "🕒 Average Wait Times:\n",
            "----------------------\n",
            "- Triage: 45.15 min\n",
            "- Consultation: 73.81 min\n",
            "- Labs: 38.22 min\n",
            "\n",
            "⚠️ Delays Over 60 Minutes:\n",
            "--------------------------\n",
            "- Triage: 27 occurrences\n",
            "- Consultation: 66 occurrences\n",
            "\n",
            "🔁 Readmission Rate:\n",
            "---------------------\n",
            "30.0%\n",
            "\n",
            "📝 Summary:\n",
            "-----------\n",
            "The average wait times are 45.15 minutes for triage, 73.81 minutes for consultation, and 38.22 minutes for labs. There are 27 delays over 60 minutes in triage and 66 in consultation. The readmission rate within 30 days is 30%.\n",
            "\n",
            "Regards,\n",
            "AI Monitoring System\n",
            "```\n",
            "\n",
            "If you need any further assistance, feel free to ask!\n"
          ]
        }
      ]
    }
  ],
  "metadata": {
    "colab": {
      "provenance": []
    },
    "language_info": {
      "name": "python"
    },
    "kernelspec": {
      "name": "python3",
      "display_name": "Python 3"
    }
  },
  "nbformat": 4,
  "nbformat_minor": 5
}